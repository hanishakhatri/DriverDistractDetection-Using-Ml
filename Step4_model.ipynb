{
 "cells": [
  {
   "cell_type": "code",
   "execution_count": 1,
   "metadata": {},
   "outputs": [
    {
     "name": "stderr",
     "output_type": "stream",
     "text": [
      "Using TensorFlow backend.\n"
     ]
    }
   ],
   "source": [
    "import numpy as np\n",
    "import os\n",
    "import cv2\n",
    "import keras\n",
    "import matplotlib.pyplot as plt\n",
    "from imutils import paths\n",
    "from tensorflow.keras.applications.mobilenet_v2 import preprocess_input\n",
    "from tensorflow.keras.preprocessing.image import img_to_array\n",
    "from tensorflow.keras.preprocessing.image import load_img\n",
    "from sklearn.model_selection import train_test_split\n",
    "from sklearn import preprocessing\n",
    "import matplotlib.pyplot as plt"
   ]
  },
  {
   "cell_type": "markdown",
   "metadata": {},
   "source": [
    "###  Loading and Resizing of the data"
   ]
  },
  {
   "cell_type": "code",
   "execution_count": 2,
   "metadata": {},
   "outputs": [],
   "source": [
    "classes = ['c0', 'c1','c2','c3','c4','c5','c6','c7','c8','c9']\n",
    "Dict = {'c0' : 0, 'c1' :1, 'c2':2, 'c3':3, 'c4':4,'c5':5,'c6':6,'c7':7,'c8':8,'c9':9}\n",
    "images = []\n",
    "Img_labels = []\n",
    "train_path='imgs/train'"
   ]
  },
  {
   "cell_type": "code",
   "execution_count": 3,
   "metadata": {},
   "outputs": [],
   "source": [
    "for label in classes:\n",
    "      path = os.path.join(train_path , label)\n",
    "      for img in os.listdir(path):\n",
    "         img = cv2.imread(os.path.join(path,img))\n",
    "         new_img = cv2.resize(img, (64, 64))\n",
    "         images.append(new_img)\n",
    "         Img_labels.append(Dict[label])\n",
    "         # print(images,Img_labels)\n",
    "     #print(label)"
   ]
  },
  {
   "cell_type": "code",
   "execution_count": 4,
   "metadata": {},
   "outputs": [
    {
     "name": "stdout",
     "output_type": "stream",
     "text": [
      "(22424, 64, 64, 3)\n"
     ]
    }
   ],
   "source": [
    "img=np.array(images)\n",
    "labels=np.array(Img_labels)\n",
    "print(img.shape)"
   ]
  },
  {
   "cell_type": "markdown",
   "metadata": {},
   "source": [
    "### Feature extraction using color histogram"
   ]
  },
  {
   "cell_type": "code",
   "execution_count": 5,
   "metadata": {},
   "outputs": [],
   "source": [
    "# applying color histogram using function for all the images\n",
    "def color_hist(images):\n",
    "    histograms = []\n",
    "    for img in images:\n",
    "        histograms.append(cv2.calcHist([img], [0, 1, 2],None, [8,8,8], [0, 256, 0, 256, 0, 256]).flatten())\n",
    "    \n",
    "    result = np.array(histograms)\n",
    "        \n",
    "    return result"
   ]
  },
  {
   "cell_type": "code",
   "execution_count": 6,
   "metadata": {},
   "outputs": [],
   "source": [
    "x_train,X_test,y_train,Y_test = train_test_split(img,labels, test_size=0.2, random_state=0,stratify=labels)\n",
    "X_train,X_val,Y_train,Y_val = train_test_split(x_train,y_train, test_size=0.1, random_state=0,stratify=y_train)"
   ]
  },
  {
   "cell_type": "code",
   "execution_count": 7,
   "metadata": {},
   "outputs": [],
   "source": [
    "train_img = color_hist(X_train)\n",
    "val_img=color_hist(X_val)\n",
    "test_img= color_hist(X_test)"
   ]
  },
  {
   "cell_type": "code",
   "execution_count": 8,
   "metadata": {},
   "outputs": [
    {
     "data": {
      "text/plain": [
       "((1794, 512), (16145, 512))"
      ]
     },
     "execution_count": 8,
     "metadata": {},
     "output_type": "execute_result"
    }
   ],
   "source": [
    "val_img.shape, train_img.shape"
   ]
  },
  {
   "cell_type": "markdown",
   "metadata": {},
   "source": [
    "### Normalizing"
   ]
  },
  {
   "cell_type": "code",
   "execution_count": 9,
   "metadata": {},
   "outputs": [],
   "source": [
    "from sklearn.preprocessing import MinMaxScaler\n",
    "def normalize_fn(train,val,test):\n",
    "    min_max_scaler = preprocessing.MinMaxScaler()\n",
    "    normalize_train_img = min_max_scaler.fit_transform(train)\n",
    "    normalize_val_img = min_max_scaler.transform(val)\n",
    "    normalize_test_img = min_max_scaler.transform(test)\n",
    "    \n",
    "    return normalize_train_img, normalize_val_img, normalize_test_img"
   ]
  },
  {
   "cell_type": "code",
   "execution_count": 10,
   "metadata": {},
   "outputs": [],
   "source": [
    "normalize_train_img, normalize_val_img, normalize_test_img = normalize_fn(train_img,val_img,test_img)"
   ]
  },
  {
   "cell_type": "markdown",
   "metadata": {},
   "source": [
    "### PCA"
   ]
  },
  {
   "cell_type": "code",
   "execution_count": 11,
   "metadata": {},
   "outputs": [],
   "source": [
    "from sklearn.decomposition import PCA\n",
    "pca= PCA(n_components=100)\n",
    "pca_train_img = pca.fit_transform(normalize_train_img)\n",
    "pca_val_img = pca.transform(normalize_val_img)\n",
    "pca_test_img = pca.transform(normalize_test_img)"
   ]
  },
  {
   "cell_type": "code",
   "execution_count": 31,
   "metadata": {},
   "outputs": [
    {
     "name": "stdout",
     "output_type": "stream",
     "text": [
      "Accuracy on pca 0.927536231884058\n"
     ]
    }
   ],
   "source": [
    "#using pca\n",
    "from sklearn.svm import SVC\n",
    "pca_model = SVC(kernel='rbf')\n",
    "pca_model.fit(pca_train_img, Y_train)\n",
    "pca_model_accuracy=pca_model.score(pca_val_img,Y_val)\n",
    "print(\"Accuracy on pca\",pca_model_accuracy)"
   ]
  },
  {
   "cell_type": "markdown",
   "metadata": {},
   "source": [
    "### LDA"
   ]
  },
  {
   "cell_type": "code",
   "execution_count": 12,
   "metadata": {},
   "outputs": [],
   "source": [
    "from sklearn.discriminant_analysis import LinearDiscriminantAnalysis as LDA\n",
    "lda = LDA()\n",
    "lda_train_img = lda.fit_transform(normalize_train_img,Y_train)\n",
    "lda_val_img = lda.transform(normalize_val_img)\n",
    "lda_test_img = lda.transform(normalize_test_img)"
   ]
  },
  {
   "cell_type": "code",
   "execution_count": 30,
   "metadata": {},
   "outputs": [
    {
     "name": "stdout",
     "output_type": "stream",
     "text": [
      "Accuracy on lda 0.5668896321070234\n"
     ]
    }
   ],
   "source": [
    "#using lda\n",
    "from sklearn.svm import SVC\n",
    "lda_model = SVC(kernel='rbf')\n",
    "lda_model.fit(lda_train_img, Y_train)\n",
    "lda_model_accuracy=lda_model.score(lda_val_img,Y_val)\n",
    "print(\"Accuracy on lda\",lda_model_accuracy)"
   ]
  },
  {
   "cell_type": "markdown",
   "metadata": {},
   "source": [
    "### Lda over Pca"
   ]
  },
  {
   "cell_type": "code",
   "execution_count": 32,
   "metadata": {},
   "outputs": [],
   "source": [
    "lda = LDA()\n",
    "lda_over_pca_train_img = lda.fit_transform(pca_train_img,Y_train)\n",
    "lda_over_pca_val_img = lda.transform(pca_val_img)\n",
    "lda_over_pca_test_img = lda.transform(pca_test_img)"
   ]
  },
  {
   "cell_type": "code",
   "execution_count": 27,
   "metadata": {},
   "outputs": [
    {
     "name": "stdout",
     "output_type": "stream",
     "text": [
      "Lda over Pca model accuracy 0.5306577480490524\n"
     ]
    }
   ],
   "source": [
    "model_lda_over_pca = SVC()\n",
    "model_lda_over_pca.fit(lda_over_pca_train_img, Y_train)\n",
    "accuracy_lda_over_pca = model_lda_over_pca.score(lda_over_pca_val_img,Y_val)\n",
    "print(\"Lda over Pca model accuracy\",accuracy_lda_over_pca)"
   ]
  },
  {
   "cell_type": "code",
   "execution_count": 33,
   "metadata": {},
   "outputs": [
    {
     "name": "stdout",
     "output_type": "stream",
     "text": [
      "Accuracy on pca 0.9302118171683389\n",
      "Lda over Pca model accuracy 0.5351170568561873\n",
      "Accuracy on lda 0.570345596432553\n"
     ]
    }
   ],
   "source": [
    "pca_model_accuracy=pca_model.score(pca_test_img,Y_test)\n",
    "print(\"Accuracy on pca\",pca_model_accuracy)\n",
    "\n",
    "accuracy_lda_over_pca = model_lda_over_pca.score(lda_over_pca_test_img,Y_test)\n",
    "print(\"Lda over Pca model accuracy\",accuracy_lda_over_pca)\n",
    "\n",
    "lda_model_accuracy=lda_model.score(lda_test_img,Y_test)\n",
    "print(\"Accuracy on lda\",lda_model_accuracy)"
   ]
  },
  {
   "cell_type": "code",
   "execution_count": null,
   "metadata": {},
   "outputs": [],
   "source": []
  }
 ],
 "metadata": {
  "kernelspec": {
   "display_name": "Python 3",
   "language": "python",
   "name": "python3"
  },
  "language_info": {
   "codemirror_mode": {
    "name": "ipython",
    "version": 3
   },
   "file_extension": ".py",
   "mimetype": "text/x-python",
   "name": "python",
   "nbconvert_exporter": "python",
   "pygments_lexer": "ipython3",
   "version": "3.7.4"
  }
 },
 "nbformat": 4,
 "nbformat_minor": 2
}
