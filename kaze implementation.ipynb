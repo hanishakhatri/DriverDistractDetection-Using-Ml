{
 "cells": [
  {
   "cell_type": "code",
   "execution_count": 1,
   "metadata": {},
   "outputs": [],
   "source": [
    "import numpy as np\n",
    "import os\n",
    "import cv2\n",
    "import keras\n",
    "import matplotlib.pyplot as plt\n",
    "from imutils import paths\n",
    "from tensorflow.keras.applications.mobilenet_v2 import preprocess_input\n",
    "from tensorflow.keras.preprocessing.image import img_to_array\n",
    "from tensorflow.keras.preprocessing.image import load_img"
   ]
  },
  {
   "cell_type": "code",
   "execution_count": 64,
   "metadata": {},
   "outputs": [],
   "source": [
    "from sklearn.svm import SVC"
   ]
  },
  {
   "cell_type": "markdown",
   "metadata": {},
   "source": [
    "# converting images into arrays"
   ]
  },
  {
   "cell_type": "code",
   "execution_count": 2,
   "metadata": {},
   "outputs": [],
   "source": [
    "classes = ['c0', 'c1','c2','c3','c4','c5','c6','c7','c8','c9']\n",
    "Dict = {'c0' : 0, 'c1' :1, 'c2':2, 'c3':3, 'c4':4,'c5':5,'c6':6,'c7':7,'c8':8,'c9':9}\n",
    "images = []\n",
    "Img_labels = []\n",
    "train_path='imgs/train'"
   ]
  },
  {
   "cell_type": "code",
   "execution_count": 3,
   "metadata": {},
   "outputs": [],
   "source": [
    "for label in classes:\n",
    "      path = os.path.join(train_path , label)\n",
    "      for img in os.listdir(path):\n",
    "         img = cv2.imread(os.path.join(path,img))\n",
    "         new_img = cv2.resize(img, (64, 64))\n",
    "         images.append(new_img)\n",
    "         Img_labels.append(Dict[label])\n",
    "         #print(images,Img_labels)\n",
    "     #print(label)"
   ]
  },
  {
   "cell_type": "code",
   "execution_count": 32,
   "metadata": {},
   "outputs": [
    {
     "name": "stdout",
     "output_type": "stream",
     "text": [
      "(22424, 64, 64, 3)\n"
     ]
    }
   ],
   "source": [
    "img=np.array(images)\n",
    "labels=np.array(Img_labels)\n",
    "print(img.shape)"
   ]
  },
  {
   "cell_type": "code",
   "execution_count": 33,
   "metadata": {},
   "outputs": [
    {
     "name": "stdout",
     "output_type": "stream",
     "text": [
      "[[[[ 40  39  30]\n",
      "   [ 22  26  21]\n",
      "   [137 166 146]\n",
      "   ...\n",
      "   [183 168  87]\n",
      "   [229 218 131]\n",
      "   [254 250 176]]\n",
      "\n",
      "  [[ 13   9   1]\n",
      "   [  9  17  10]\n",
      "   [ 11  10  14]\n",
      "   ...\n",
      "   [239 232 160]\n",
      "   [254 255 170]\n",
      "   [223 220 128]]\n",
      "\n",
      "  [[  6   6   4]\n",
      "   [ 87 118 101]\n",
      "   [ 72 100  76]\n",
      "   ...\n",
      "   [241 240 146]\n",
      "   [221 213 118]\n",
      "   [212 205 114]]\n",
      "\n",
      "  ...\n",
      "\n",
      "  [[ 41  48  33]\n",
      "   [ 53  57  46]\n",
      "   [ 59  64  49]\n",
      "   ...\n",
      "   [ 14  13  15]\n",
      "   [ 11  10  12]\n",
      "   [ 13  12  14]]\n",
      "\n",
      "  [[ 48  54  43]\n",
      "   [ 58  60  45]\n",
      "   [ 59  65  48]\n",
      "   ...\n",
      "   [ 13  15  16]\n",
      "   [ 11  13  14]\n",
      "   [ 16  18  19]]\n",
      "\n",
      "  [[ 50  59  40]\n",
      "   [ 63  64  51]\n",
      "   [ 56  62  45]\n",
      "   ...\n",
      "   [ 13  15  16]\n",
      "   [ 11  13  14]\n",
      "   [ 12  14  15]]]\n",
      "\n",
      "\n",
      " [[[ 36  43  36]\n",
      "   [ 35  42  35]\n",
      "   [ 40  46  41]\n",
      "   ...\n",
      "   [221 253 212]\n",
      "   [235 253 242]\n",
      "   [254 254 254]]\n",
      "\n",
      "  [[ 39  46  39]\n",
      "   [ 39  46  39]\n",
      "   [ 38  44  39]\n",
      "   ...\n",
      "   [219 236 185]\n",
      "   [215 243 194]\n",
      "   [233 255 230]]\n",
      "\n",
      "  [[ 39  47  37]\n",
      "   [ 41  49  39]\n",
      "   [ 33  43  37]\n",
      "   ...\n",
      "   [225 233 183]\n",
      "   [225 240 189]\n",
      "   [222 242 191]]\n",
      "\n",
      "  ...\n",
      "\n",
      "  [[ 47  51  39]\n",
      "   [ 46  50  38]\n",
      "   [ 43  44  35]\n",
      "   ...\n",
      "   [ 10   9  11]\n",
      "   [  6   8   9]\n",
      "   [  7   9  10]]\n",
      "\n",
      "  [[ 32  36  27]\n",
      "   [ 34  38  29]\n",
      "   [ 31  34  25]\n",
      "   ...\n",
      "   [ 10   9  11]\n",
      "   [  8  10   9]\n",
      "   [  7   9   9]]\n",
      "\n",
      "  [[ 57  60  49]\n",
      "   [ 59  61  51]\n",
      "   [ 55  58  48]\n",
      "   ...\n",
      "   [ 10   9  11]\n",
      "   [  3   8   9]\n",
      "   [ 15  13   5]]]\n",
      "\n",
      "\n",
      " [[[ 44  51  44]\n",
      "   [ 44  51  44]\n",
      "   [ 47  51  45]\n",
      "   ...\n",
      "   [226 253 214]\n",
      "   [245 255 243]\n",
      "   [253 253 255]]\n",
      "\n",
      "  [[ 45  52  45]\n",
      "   [ 45  52  45]\n",
      "   [ 47  51  45]\n",
      "   ...\n",
      "   [225 242 189]\n",
      "   [220 245 201]\n",
      "   [243 255 232]]\n",
      "\n",
      "  [[ 44  52  42]\n",
      "   [ 46  54  44]\n",
      "   [ 44  52  42]\n",
      "   ...\n",
      "   [230 240 187]\n",
      "   [232 245 193]\n",
      "   [230 248 195]]\n",
      "\n",
      "  ...\n",
      "\n",
      "  [[ 51  52  43]\n",
      "   [ 49  50  41]\n",
      "   [ 47  48  39]\n",
      "   ...\n",
      "   [ 11  10  12]\n",
      "   [  9   8  12]\n",
      "   [ 10   9  13]]\n",
      "\n",
      "  [[ 36  40  31]\n",
      "   [ 35  39  29]\n",
      "   [ 34  36  29]\n",
      "   ...\n",
      "   [ 10   9  11]\n",
      "   [ 10  10   9]\n",
      "   [ 11  12  11]]\n",
      "\n",
      "  [[ 74  79  63]\n",
      "   [ 76  80  66]\n",
      "   [ 61  69  59]\n",
      "   ...\n",
      "   [ 11  10  12]\n",
      "   [  8  10  11]\n",
      "   [ 24  18  10]]]\n",
      "\n",
      "\n",
      " ...\n",
      "\n",
      "\n",
      " [[[ 43  51  41]\n",
      "   [ 44  52  42]\n",
      "   [ 45  53  43]\n",
      "   ...\n",
      "   [254 255 212]\n",
      "   [246 255 213]\n",
      "   [240 248 227]]\n",
      "\n",
      "  [[ 43  51  41]\n",
      "   [ 44  52  42]\n",
      "   [ 44  52  42]\n",
      "   ...\n",
      "   [253 255 196]\n",
      "   [250 254 205]\n",
      "   [250 255 217]]\n",
      "\n",
      "  [[ 46  51  42]\n",
      "   [ 46  51  42]\n",
      "   [ 44  52  42]\n",
      "   ...\n",
      "   [249 250 180]\n",
      "   [255 255 193]\n",
      "   [255 255 197]]\n",
      "\n",
      "  ...\n",
      "\n",
      "  [[  7   7   7]\n",
      "   [  7   8   6]\n",
      "   [  3   5   5]\n",
      "   ...\n",
      "   [ 27  27  27]\n",
      "   [  5   7   8]\n",
      "   [ 19  20  22]]\n",
      "\n",
      "  [[  4   6   6]\n",
      "   [  4   6   6]\n",
      "   [  4   6   6]\n",
      "   ...\n",
      "   [  7   9  10]\n",
      "   [  8  10  11]\n",
      "   [ 13  15  16]]\n",
      "\n",
      "  [[  6   8   8]\n",
      "   [  5   7   7]\n",
      "   [  6   8   8]\n",
      "   ...\n",
      "   [ 11  13  14]\n",
      "   [ 37  39  40]\n",
      "   [  6   8   9]]]\n",
      "\n",
      "\n",
      " [[[ 28  35  28]\n",
      "   [ 32  39  32]\n",
      "   [ 34  39  30]\n",
      "   ...\n",
      "   [234 250 187]\n",
      "   [196 224 187]\n",
      "   [ 25  42  26]]\n",
      "\n",
      "  [[ 29  36  29]\n",
      "   [ 30  37  30]\n",
      "   [ 32  37  28]\n",
      "   ...\n",
      "   [245 240 168]\n",
      "   [231 241 178]\n",
      "   [234 255 186]]\n",
      "\n",
      "  [[ 32  37  28]\n",
      "   [ 31  36  27]\n",
      "   [ 29  37  27]\n",
      "   ...\n",
      "   [242 234 157]\n",
      "   [241 242 166]\n",
      "   [239 243 172]]\n",
      "\n",
      "  ...\n",
      "\n",
      "  [[  2   7   6]\n",
      "   [  2   7   6]\n",
      "   [  2   7   6]\n",
      "   ...\n",
      "   [  9   9  15]\n",
      "   [  9  10  20]\n",
      "   [ 26  24  30]]\n",
      "\n",
      "  [[  2   7   6]\n",
      "   [  1   6   5]\n",
      "   [  3   8   7]\n",
      "   ...\n",
      "   [  8   9  13]\n",
      "   [ 24  22  28]\n",
      "   [ 29  27  33]]\n",
      "\n",
      "  [[  1   6   5]\n",
      "   [  2   7   6]\n",
      "   [  2   7   6]\n",
      "   ...\n",
      "   [  9  10  14]\n",
      "   [ 11   9  15]\n",
      "   [ 14  12  18]]]\n",
      "\n",
      "\n",
      " [[[ 26  38  28]\n",
      "   [ 32  40  30]\n",
      "   [ 33  45  34]\n",
      "   ...\n",
      "   [172 160  81]\n",
      "   [156 146  83]\n",
      "   [196 195 127]]\n",
      "\n",
      "  [[ 30  43  31]\n",
      "   [213 229 217]\n",
      "   [  2  11   5]\n",
      "   ...\n",
      "   [180 170 100]\n",
      "   [158 158  85]\n",
      "   [209 210 120]]\n",
      "\n",
      "  [[  0   5   1]\n",
      "   [  2  22   4]\n",
      "   [ 54  65  62]\n",
      "   ...\n",
      "   [187 179 109]\n",
      "   [189 184 116]\n",
      "   [198 195 117]]\n",
      "\n",
      "  ...\n",
      "\n",
      "  [[  8  11   9]\n",
      "   [ 40  44  39]\n",
      "   [ 51  55  43]\n",
      "   ...\n",
      "   [  4   8   9]\n",
      "   [  5   8  12]\n",
      "   [ 13  16  20]]\n",
      "\n",
      "  [[  4   9   8]\n",
      "   [  4   9   8]\n",
      "   [  4   9   8]\n",
      "   ...\n",
      "   [  8  11  15]\n",
      "   [  8  12  13]\n",
      "   [  9  13  14]]\n",
      "\n",
      "  [[  4   9   8]\n",
      "   [  4   9   8]\n",
      "   [  4   9   8]\n",
      "   ...\n",
      "   [ 10  13  17]\n",
      "   [  7  11  12]\n",
      "   [  8  12  13]]]]\n"
     ]
    }
   ],
   "source": [
    "print(img)"
   ]
  },
  {
   "cell_type": "code",
   "execution_count": 44,
   "metadata": {
    "scrolled": true
   },
   "outputs": [
    {
     "data": {
      "text/plain": [
       "array([0, 0, 0, ..., 9, 9, 9])"
      ]
     },
     "execution_count": 44,
     "metadata": {},
     "output_type": "execute_result"
    }
   ],
   "source": [
    "labels"
   ]
  },
  {
   "cell_type": "code",
   "execution_count": null,
   "metadata": {},
   "outputs": [],
   "source": []
  },
  {
   "cell_type": "code",
   "execution_count": 45,
   "metadata": {},
   "outputs": [],
   "source": [
    "full_x = img\n",
    "full_y = labels"
   ]
  },
  {
   "cell_type": "markdown",
   "metadata": {},
   "source": [
    "# KAZE buiding"
   ]
  },
  {
   "cell_type": "code",
   "execution_count": null,
   "metadata": {},
   "outputs": [],
   "source": [
    "import cv2"
   ]
  },
  {
   "cell_type": "code",
   "execution_count": null,
   "metadata": {},
   "outputs": [],
   "source": [
    "def get_kaze(images, name='kaze'):\n",
    "    def get_image_kaze(image, vector_size=32):\n",
    "        alg = cv2.KAZE_create()\n",
    "        kps = alg.detect(image)\n",
    "        kps = sorted(kps, key=lambda x: -x.response)[:vector_size]\n",
    "        \n",
    "        # Making descriptor of same size\n",
    "        # Descriptor vector size is 64\n",
    "        needed_size = (vector_size * 64)\n",
    "        if len(kps) == 0:\n",
    "            return np.zeros(needed_size)\n",
    "        \n",
    "        kps, dsc = alg.compute(image, kps)\n",
    "        dsc = dsc.flatten()\n",
    "        \n",
    "        if dsc.size < needed_size:\n",
    "            # if we have less than 32 descriptors then just adding zeros at the\n",
    "            # end of our feature vector\n",
    "            dsc = np.concatenate([dsc, np.zeros(needed_size - dsc.size)])\n",
    "        return dsc\n",
    "    \n",
    "    # KAZE descriptor for all images\n",
    "    features = []\n",
    "    for i, img in enumerate(images):\n",
    "        dsc = get_image_kaze(img)\n",
    "        features.append(dsc)\n",
    "    \n",
    "    result = np.array(features)"
   ]
  },
  {
   "cell_type": "code",
   "execution_count": null,
   "metadata": {},
   "outputs": [],
   "source": []
  },
  {
   "cell_type": "markdown",
   "metadata": {},
   "source": [
    "# Train test and validation split"
   ]
  },
  {
   "cell_type": "code",
   "execution_count": 48,
   "metadata": {},
   "outputs": [],
   "source": [
    "from sklearn.model_selection import train_test_split"
   ]
  },
  {
   "cell_type": "code",
   "execution_count": 49,
   "metadata": {},
   "outputs": [],
   "source": [
    "X , X_test , y ,y_test = train_test_split(full_x , full_y , test_size=0.2, random_state=0)"
   ]
  },
  {
   "cell_type": "code",
   "execution_count": 69,
   "metadata": {},
   "outputs": [],
   "source": [
    "train_imgs , val_imgs , train_y , val_y = train_test_split( X, y ,test_size=0.1, random_state=0) "
   ]
  },
  {
   "cell_type": "markdown",
   "metadata": {},
   "source": [
    "# kaze applied"
   ]
  },
  {
   "cell_type": "code",
   "execution_count": null,
   "metadata": {},
   "outputs": [],
   "source": [
    "kaze_train = get_kaze(train_imgs, name='kaze_train')\n",
    "kaze_val = get_kaze(val_imgs, name='kaze_val')\n",
    "kaze_test = get_kaze(X_test, name='kaze_test')"
   ]
  },
  {
   "cell_type": "code",
   "execution_count": 78,
   "metadata": {},
   "outputs": [],
   "source": [
    "nsamples, nx, ny "
   ]
  },
  {
   "cell_type": "code",
   "execution_count": 77,
   "metadata": {},
   "outputs": [
    {
     "data": {
      "text/plain": [
       "(16145, 64, 64, 3)"
      ]
     },
     "execution_count": 77,
     "metadata": {},
     "output_type": "execute_result"
    }
   ],
   "source": [
    "nsamples"
   ]
  },
  {
   "cell_type": "code",
   "execution_count": 82,
   "metadata": {},
   "outputs": [
    {
     "data": {
      "text/plain": [
       "((1794, 2048), (4485, 2048))"
      ]
     },
     "execution_count": 82,
     "metadata": {},
     "output_type": "execute_result"
    }
   ],
   "source": [
    "kaze_val.shape, kaze_test.shape"
   ]
  },
  {
   "cell_type": "code",
   "execution_count": null,
   "metadata": {},
   "outputs": [],
   "source": []
  },
  {
   "cell_type": "code",
   "execution_count": null,
   "metadata": {},
   "outputs": [],
   "source": []
  },
  {
   "cell_type": "code",
   "execution_count": 67,
   "metadata": {},
   "outputs": [
    {
     "ename": "ValueError",
     "evalue": "Found array with dim 4. MinMaxScaler expected <= 2.",
     "output_type": "error",
     "traceback": [
      "\u001b[1;31m---------------------------------------------------------------------------\u001b[0m",
      "\u001b[1;31mValueError\u001b[0m                                Traceback (most recent call last)",
      "\u001b[1;32m<ipython-input-67-86cb1b9591fb>\u001b[0m in \u001b[0;36m<module>\u001b[1;34m\u001b[0m\n\u001b[0;32m      1\u001b[0m \u001b[1;32mfrom\u001b[0m \u001b[0msklearn\u001b[0m\u001b[1;33m.\u001b[0m\u001b[0mpreprocessing\u001b[0m \u001b[1;32mimport\u001b[0m \u001b[0mMinMaxScaler\u001b[0m\u001b[1;33m\u001b[0m\u001b[1;33m\u001b[0m\u001b[0m\n\u001b[0;32m      2\u001b[0m \u001b[0msc\u001b[0m \u001b[1;33m=\u001b[0m \u001b[0mMinMaxScaler\u001b[0m\u001b[1;33m(\u001b[0m\u001b[1;33m)\u001b[0m\u001b[1;33m\u001b[0m\u001b[1;33m\u001b[0m\u001b[0m\n\u001b[1;32m----> 3\u001b[1;33m \u001b[0mX_train\u001b[0m \u001b[1;33m=\u001b[0m \u001b[0msc\u001b[0m\u001b[1;33m.\u001b[0m\u001b[0mfit_transform\u001b[0m\u001b[1;33m(\u001b[0m\u001b[0mtrain_imgs\u001b[0m\u001b[1;33m)\u001b[0m\u001b[1;33m\u001b[0m\u001b[1;33m\u001b[0m\u001b[0m\n\u001b[0m\u001b[0;32m      4\u001b[0m \u001b[0mX_test\u001b[0m \u001b[1;33m=\u001b[0m \u001b[0msc\u001b[0m\u001b[1;33m.\u001b[0m\u001b[0mtransform\u001b[0m\u001b[1;33m(\u001b[0m\u001b[0mX_test\u001b[0m\u001b[1;33m)\u001b[0m\u001b[1;33m\u001b[0m\u001b[1;33m\u001b[0m\u001b[0m\n",
      "\u001b[1;32mE:\\anaconda\\lib\\site-packages\\sklearn\\base.py\u001b[0m in \u001b[0;36mfit_transform\u001b[1;34m(self, X, y, **fit_params)\u001b[0m\n\u001b[0;32m    688\u001b[0m         \u001b[1;32mif\u001b[0m \u001b[0my\u001b[0m \u001b[1;32mis\u001b[0m \u001b[1;32mNone\u001b[0m\u001b[1;33m:\u001b[0m\u001b[1;33m\u001b[0m\u001b[1;33m\u001b[0m\u001b[0m\n\u001b[0;32m    689\u001b[0m             \u001b[1;31m# fit method of arity 1 (unsupervised transformation)\u001b[0m\u001b[1;33m\u001b[0m\u001b[1;33m\u001b[0m\u001b[1;33m\u001b[0m\u001b[0m\n\u001b[1;32m--> 690\u001b[1;33m             \u001b[1;32mreturn\u001b[0m \u001b[0mself\u001b[0m\u001b[1;33m.\u001b[0m\u001b[0mfit\u001b[0m\u001b[1;33m(\u001b[0m\u001b[0mX\u001b[0m\u001b[1;33m,\u001b[0m \u001b[1;33m**\u001b[0m\u001b[0mfit_params\u001b[0m\u001b[1;33m)\u001b[0m\u001b[1;33m.\u001b[0m\u001b[0mtransform\u001b[0m\u001b[1;33m(\u001b[0m\u001b[0mX\u001b[0m\u001b[1;33m)\u001b[0m\u001b[1;33m\u001b[0m\u001b[1;33m\u001b[0m\u001b[0m\n\u001b[0m\u001b[0;32m    691\u001b[0m         \u001b[1;32melse\u001b[0m\u001b[1;33m:\u001b[0m\u001b[1;33m\u001b[0m\u001b[1;33m\u001b[0m\u001b[0m\n\u001b[0;32m    692\u001b[0m             \u001b[1;31m# fit method of arity 2 (supervised transformation)\u001b[0m\u001b[1;33m\u001b[0m\u001b[1;33m\u001b[0m\u001b[1;33m\u001b[0m\u001b[0m\n",
      "\u001b[1;32mE:\\anaconda\\lib\\site-packages\\sklearn\\preprocessing\\_data.py\u001b[0m in \u001b[0;36mfit\u001b[1;34m(self, X, y)\u001b[0m\n\u001b[0;32m    334\u001b[0m         \u001b[1;31m# Reset internal state before fitting\u001b[0m\u001b[1;33m\u001b[0m\u001b[1;33m\u001b[0m\u001b[1;33m\u001b[0m\u001b[0m\n\u001b[0;32m    335\u001b[0m         \u001b[0mself\u001b[0m\u001b[1;33m.\u001b[0m\u001b[0m_reset\u001b[0m\u001b[1;33m(\u001b[0m\u001b[1;33m)\u001b[0m\u001b[1;33m\u001b[0m\u001b[1;33m\u001b[0m\u001b[0m\n\u001b[1;32m--> 336\u001b[1;33m         \u001b[1;32mreturn\u001b[0m \u001b[0mself\u001b[0m\u001b[1;33m.\u001b[0m\u001b[0mpartial_fit\u001b[0m\u001b[1;33m(\u001b[0m\u001b[0mX\u001b[0m\u001b[1;33m,\u001b[0m \u001b[0my\u001b[0m\u001b[1;33m)\u001b[0m\u001b[1;33m\u001b[0m\u001b[1;33m\u001b[0m\u001b[0m\n\u001b[0m\u001b[0;32m    337\u001b[0m \u001b[1;33m\u001b[0m\u001b[0m\n\u001b[0;32m    338\u001b[0m     \u001b[1;32mdef\u001b[0m \u001b[0mpartial_fit\u001b[0m\u001b[1;33m(\u001b[0m\u001b[0mself\u001b[0m\u001b[1;33m,\u001b[0m \u001b[0mX\u001b[0m\u001b[1;33m,\u001b[0m \u001b[0my\u001b[0m\u001b[1;33m=\u001b[0m\u001b[1;32mNone\u001b[0m\u001b[1;33m)\u001b[0m\u001b[1;33m:\u001b[0m\u001b[1;33m\u001b[0m\u001b[1;33m\u001b[0m\u001b[0m\n",
      "\u001b[1;32mE:\\anaconda\\lib\\site-packages\\sklearn\\preprocessing\\_data.py\u001b[0m in \u001b[0;36mpartial_fit\u001b[1;34m(self, X, y)\u001b[0m\n\u001b[0;32m    367\u001b[0m \u001b[1;33m\u001b[0m\u001b[0m\n\u001b[0;32m    368\u001b[0m         \u001b[0mfirst_pass\u001b[0m \u001b[1;33m=\u001b[0m \u001b[1;32mnot\u001b[0m \u001b[0mhasattr\u001b[0m\u001b[1;33m(\u001b[0m\u001b[0mself\u001b[0m\u001b[1;33m,\u001b[0m \u001b[1;34m'n_samples_seen_'\u001b[0m\u001b[1;33m)\u001b[0m\u001b[1;33m\u001b[0m\u001b[1;33m\u001b[0m\u001b[0m\n\u001b[1;32m--> 369\u001b[1;33m         X = self._validate_data(X, reset=first_pass,\n\u001b[0m\u001b[0;32m    370\u001b[0m                                 \u001b[0mestimator\u001b[0m\u001b[1;33m=\u001b[0m\u001b[0mself\u001b[0m\u001b[1;33m,\u001b[0m \u001b[0mdtype\u001b[0m\u001b[1;33m=\u001b[0m\u001b[0mFLOAT_DTYPES\u001b[0m\u001b[1;33m,\u001b[0m\u001b[1;33m\u001b[0m\u001b[1;33m\u001b[0m\u001b[0m\n\u001b[0;32m    371\u001b[0m                                 force_all_finite=\"allow-nan\")\n",
      "\u001b[1;32mE:\\anaconda\\lib\\site-packages\\sklearn\\base.py\u001b[0m in \u001b[0;36m_validate_data\u001b[1;34m(self, X, y, reset, validate_separately, **check_params)\u001b[0m\n\u001b[0;32m    418\u001b[0m                     \u001b[1;34mf\"requires y to be passed, but the target y is None.\"\u001b[0m\u001b[1;33m\u001b[0m\u001b[1;33m\u001b[0m\u001b[0m\n\u001b[0;32m    419\u001b[0m                 )\n\u001b[1;32m--> 420\u001b[1;33m             \u001b[0mX\u001b[0m \u001b[1;33m=\u001b[0m \u001b[0mcheck_array\u001b[0m\u001b[1;33m(\u001b[0m\u001b[0mX\u001b[0m\u001b[1;33m,\u001b[0m \u001b[1;33m**\u001b[0m\u001b[0mcheck_params\u001b[0m\u001b[1;33m)\u001b[0m\u001b[1;33m\u001b[0m\u001b[1;33m\u001b[0m\u001b[0m\n\u001b[0m\u001b[0;32m    421\u001b[0m             \u001b[0mout\u001b[0m \u001b[1;33m=\u001b[0m \u001b[0mX\u001b[0m\u001b[1;33m\u001b[0m\u001b[1;33m\u001b[0m\u001b[0m\n\u001b[0;32m    422\u001b[0m         \u001b[1;32melse\u001b[0m\u001b[1;33m:\u001b[0m\u001b[1;33m\u001b[0m\u001b[1;33m\u001b[0m\u001b[0m\n",
      "\u001b[1;32mE:\\anaconda\\lib\\site-packages\\sklearn\\utils\\validation.py\u001b[0m in \u001b[0;36minner_f\u001b[1;34m(*args, **kwargs)\u001b[0m\n\u001b[0;32m     71\u001b[0m                           FutureWarning)\n\u001b[0;32m     72\u001b[0m         \u001b[0mkwargs\u001b[0m\u001b[1;33m.\u001b[0m\u001b[0mupdate\u001b[0m\u001b[1;33m(\u001b[0m\u001b[1;33m{\u001b[0m\u001b[0mk\u001b[0m\u001b[1;33m:\u001b[0m \u001b[0marg\u001b[0m \u001b[1;32mfor\u001b[0m \u001b[0mk\u001b[0m\u001b[1;33m,\u001b[0m \u001b[0marg\u001b[0m \u001b[1;32min\u001b[0m \u001b[0mzip\u001b[0m\u001b[1;33m(\u001b[0m\u001b[0msig\u001b[0m\u001b[1;33m.\u001b[0m\u001b[0mparameters\u001b[0m\u001b[1;33m,\u001b[0m \u001b[0margs\u001b[0m\u001b[1;33m)\u001b[0m\u001b[1;33m}\u001b[0m\u001b[1;33m)\u001b[0m\u001b[1;33m\u001b[0m\u001b[1;33m\u001b[0m\u001b[0m\n\u001b[1;32m---> 73\u001b[1;33m         \u001b[1;32mreturn\u001b[0m \u001b[0mf\u001b[0m\u001b[1;33m(\u001b[0m\u001b[1;33m**\u001b[0m\u001b[0mkwargs\u001b[0m\u001b[1;33m)\u001b[0m\u001b[1;33m\u001b[0m\u001b[1;33m\u001b[0m\u001b[0m\n\u001b[0m\u001b[0;32m     74\u001b[0m     \u001b[1;32mreturn\u001b[0m \u001b[0minner_f\u001b[0m\u001b[1;33m\u001b[0m\u001b[1;33m\u001b[0m\u001b[0m\n\u001b[0;32m     75\u001b[0m \u001b[1;33m\u001b[0m\u001b[0m\n",
      "\u001b[1;32mE:\\anaconda\\lib\\site-packages\\sklearn\\utils\\validation.py\u001b[0m in \u001b[0;36mcheck_array\u001b[1;34m(array, accept_sparse, accept_large_sparse, dtype, order, copy, force_all_finite, ensure_2d, allow_nd, ensure_min_samples, ensure_min_features, estimator)\u001b[0m\n\u001b[0;32m    639\u001b[0m             \u001b[0marray\u001b[0m \u001b[1;33m=\u001b[0m \u001b[0marray\u001b[0m\u001b[1;33m.\u001b[0m\u001b[0mastype\u001b[0m\u001b[1;33m(\u001b[0m\u001b[0mnp\u001b[0m\u001b[1;33m.\u001b[0m\u001b[0mfloat64\u001b[0m\u001b[1;33m)\u001b[0m\u001b[1;33m\u001b[0m\u001b[1;33m\u001b[0m\u001b[0m\n\u001b[0;32m    640\u001b[0m         \u001b[1;32mif\u001b[0m \u001b[1;32mnot\u001b[0m \u001b[0mallow_nd\u001b[0m \u001b[1;32mand\u001b[0m \u001b[0marray\u001b[0m\u001b[1;33m.\u001b[0m\u001b[0mndim\u001b[0m \u001b[1;33m>=\u001b[0m \u001b[1;36m3\u001b[0m\u001b[1;33m:\u001b[0m\u001b[1;33m\u001b[0m\u001b[1;33m\u001b[0m\u001b[0m\n\u001b[1;32m--> 641\u001b[1;33m             raise ValueError(\"Found array with dim %d. %s expected <= 2.\"\n\u001b[0m\u001b[0;32m    642\u001b[0m                              % (array.ndim, estimator_name))\n\u001b[0;32m    643\u001b[0m \u001b[1;33m\u001b[0m\u001b[0m\n",
      "\u001b[1;31mValueError\u001b[0m: Found array with dim 4. MinMaxScaler expected <= 2."
     ]
    }
   ],
   "source": [
    "from sklearn.preprocessing import MinMaxScaler\n",
    "sc = MinMaxScaler()\n",
    "X_train = sc.fit_transform(train_imgs)\n",
    "X_test = sc.transform(X_test)"
   ]
  },
  {
   "cell_type": "code",
   "execution_count": null,
   "metadata": {},
   "outputs": [],
   "source": []
  },
  {
   "cell_type": "code",
   "execution_count": 59,
   "metadata": {},
   "outputs": [],
   "source": [
    "from sklearn.decomposition import PCA\n",
    "pca = PCA(n_components = 100)\n",
    "X_train = pca.fit_transform(X_train)\n",
    "X_test = pca.transform(X_test)"
   ]
  },
  {
   "cell_type": "code",
   "execution_count": 50,
   "metadata": {},
   "outputs": [],
   "source": []
  },
  {
   "cell_type": "code",
   "execution_count": 60,
   "metadata": {},
   "outputs": [],
   "source": [
    "from sklearn.discriminant_analysis import LinearDiscriminantAnalysis as LDA\n",
    "lda = LDA(n_components = 2)\n",
    "X_train = lda.fit_transform(X_train, y_train)\n",
    "X_test = lda.transform(X_test)"
   ]
  },
  {
   "cell_type": "code",
   "execution_count": 63,
   "metadata": {},
   "outputs": [],
   "source": []
  },
  {
   "cell_type": "code",
   "execution_count": null,
   "metadata": {},
   "outputs": [],
   "source": [
    "from sklearn.discriminant_analysis import LinearDiscriminantAnalysis as LDA\n",
    "lda = LDA(n_components = 2)\n",
    "X_train = lda.fit_transform(X_train, y_train)\n",
    "X_test = lda.transform(X_test)"
   ]
  },
  {
   "cell_type": "code",
   "execution_count": null,
   "metadata": {},
   "outputs": [],
   "source": []
  },
  {
   "cell_type": "code",
   "execution_count": null,
   "metadata": {},
   "outputs": [],
   "source": []
  },
  {
   "cell_type": "code",
   "execution_count": null,
   "metadata": {},
   "outputs": [],
   "source": []
  }
 ],
 "metadata": {
  "kernelspec": {
   "display_name": "Python 3",
   "language": "python",
   "name": "python3"
  },
  "language_info": {
   "codemirror_mode": {
    "name": "ipython",
    "version": 3
   },
   "file_extension": ".py",
   "mimetype": "text/x-python",
   "name": "python",
   "nbconvert_exporter": "python",
   "pygments_lexer": "ipython3",
   "version": "3.8.3"
  }
 },
 "nbformat": 4,
 "nbformat_minor": 2
}
