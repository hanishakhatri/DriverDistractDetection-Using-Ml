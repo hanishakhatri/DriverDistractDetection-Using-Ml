{
 "cells": [
  {
   "cell_type": "code",
   "execution_count": 1,
   "metadata": {},
   "outputs": [],
   "source": [
    "from skimage.io import imread\n",
    "from skimage.transform import resize\n",
    "from skimage.feature import hog\n",
    "from skimage import exposure\n",
    "import matplotlib.pyplot as plt"
   ]
  },
  {
   "cell_type": "code",
   "execution_count": 2,
   "metadata": {},
   "outputs": [],
   "source": [
    "import cv2"
   ]
  },
  {
   "cell_type": "code",
   "execution_count": 4,
   "metadata": {},
   "outputs": [
    {
     "name": "stdout",
     "output_type": "stream",
     "text": [
      "keypoints: 537, descriptors: (537, 61)\n",
      "keypoints: 537, descriptors: (537, 61)\n"
     ]
    },
    {
     "data": {
      "text/plain": [
       "13"
      ]
     },
     "execution_count": 4,
     "metadata": {},
     "output_type": "execute_result"
    }
   ],
   "source": [
    "im1 = cv2.imread('img_10.jpg')\n",
    "im2 = cv2.imread('img_10.jpg')\n",
    "gray1 = cv2.cvtColor(im1, cv2.COLOR_BGR2GRAY)\n",
    "gray2 = cv2.cvtColor(im2, cv2.COLOR_BGR2GRAY)    \n",
    "\n",
    "    # initialize the AKAZE descriptor, then detect keypoints and extract\n",
    "    # local invariant descriptors from the image\n",
    "detector = cv2.AKAZE_create()\n",
    "(kps1, descs1) = detector.detectAndCompute(gray1, None)\n",
    "(kps2, descs2) = detector.detectAndCompute(gray2, None)\n",
    "\n",
    "print(\"keypoints: {}, descriptors: {}\".format(len(kps1), descs1.shape))\n",
    "print(\"keypoints: {}, descriptors: {}\".format(len(kps2), descs2.shape))    \n",
    "\n",
    "    # Match the features\n",
    "bf = cv2.BFMatcher(cv2.NORM_HAMMING)\n",
    "matches = bf.knnMatch(descs1,descs2, k=2)    # typo fixed\n",
    "\n",
    "    # Apply ratio test\n",
    "good = []\n",
    "for m,n in matches:\n",
    "        if m.distance < 0.9*n.distance:\n",
    "            good.append([m])\n",
    "\n",
    "    # cv2.drawMatchesKnn expects list of lists as matches.\n",
    "im3 = cv2.drawMatchesKnn(im1, kps1, im2, kps2, good[1:20], None, flags=2)\n",
    "cv2.imshow(\"AKAZE matching\", im3)\n",
    "cv2.waitKey(0) "
   ]
  },
  {
   "cell_type": "code",
   "execution_count": 5,
   "metadata": {},
   "outputs": [
    {
     "ename": "NameError",
     "evalue": "name 'x' is not defined",
     "output_type": "error",
     "traceback": [
      "\u001b[1;31m---------------------------------------------------------------------------\u001b[0m",
      "\u001b[1;31mNameError\u001b[0m                                 Traceback (most recent call last)",
      "\u001b[1;32m<ipython-input-5-25d9c4889f80>\u001b[0m in \u001b[0;36m<module>\u001b[1;34m\u001b[0m\n\u001b[1;32m----> 1\u001b[1;33m \u001b[0mkeypoints\u001b[0m \u001b[1;33m=\u001b[0m \u001b[1;33m[\u001b[0m\u001b[0mcv2\u001b[0m\u001b[1;33m.\u001b[0m\u001b[0mKeyPoint\u001b[0m\u001b[1;33m(\u001b[0m\u001b[0mx\u001b[0m\u001b[1;33m,\u001b[0m \u001b[0my\u001b[0m\u001b[1;33m,\u001b[0m \u001b[1;36m5\u001b[0m\u001b[1;33m,\u001b[0m \u001b[0m_class_id\u001b[0m\u001b[1;33m=\u001b[0m\u001b[1;36m0\u001b[0m\u001b[1;33m)\u001b[0m\u001b[1;33m]\u001b[0m\u001b[1;33m\u001b[0m\u001b[1;33m\u001b[0m\u001b[0m\n\u001b[0m\u001b[0;32m      2\u001b[0m \u001b[0makaze\u001b[0m \u001b[1;33m=\u001b[0m \u001b[0mcv2\u001b[0m\u001b[1;33m.\u001b[0m\u001b[0mAKAZE_create\u001b[0m\u001b[1;33m(\u001b[0m\u001b[1;34m\"AKAZE\"\u001b[0m\u001b[1;33m)\u001b[0m\u001b[1;33m\u001b[0m\u001b[1;33m\u001b[0m\u001b[0m\n\u001b[0;32m      3\u001b[0m \u001b[0makaze\u001b[0m\u001b[1;33m.\u001b[0m\u001b[0mcompute\u001b[0m\u001b[1;33m(\u001b[0m\u001b[0mimage\u001b[0m\u001b[1;33m,\u001b[0m \u001b[0mkeypoints\u001b[0m\u001b[1;33m)\u001b[0m\u001b[1;33m\u001b[0m\u001b[1;33m\u001b[0m\u001b[0m\n",
      "\u001b[1;31mNameError\u001b[0m: name 'x' is not defined"
     ]
    }
   ],
   "source": [
    "keypoints = [cv2.KeyPoint(x, y, 5, _class_id=0)]\n",
    "akaze = cv2.AKAZE_create(\"AKAZE\")\n",
    "akaze.compute(image, keypoints)"
   ]
  }
 ],
 "metadata": {
  "kernelspec": {
   "display_name": "Python 3",
   "language": "python",
   "name": "python3"
  },
  "language_info": {
   "codemirror_mode": {
    "name": "ipython",
    "version": 3
   },
   "file_extension": ".py",
   "mimetype": "text/x-python",
   "name": "python",
   "nbconvert_exporter": "python",
   "pygments_lexer": "ipython3",
   "version": "3.7.8"
  }
 },
 "nbformat": 4,
 "nbformat_minor": 4
}
