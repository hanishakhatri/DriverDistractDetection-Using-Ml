{
 "cells": [
  {
   "cell_type": "code",
<<<<<<< HEAD
   "execution_count": null,
=======
   "execution_count": 1,
>>>>>>> b84ddeff45de2f0b0b5d356a979eec68aa159e31
   "metadata": {},
   "outputs": [],
   "source": [
    "import numpy as np\n",
    "import os\n",
    "import cv2\n",
    "import keras\n",
    "import matplotlib.pyplot as plt\n",
    "from imutils import paths\n",
    "from tensorflow.keras.applications.mobilenet_v2 import preprocess_input\n",
    "from tensorflow.keras.preprocessing.image import img_to_array\n",
    "from tensorflow.keras.preprocessing.image import load_img"
   ]
  },
  {
   "cell_type": "code",
<<<<<<< HEAD
   "execution_count": 4,
=======
   "execution_count": 2,
>>>>>>> b84ddeff45de2f0b0b5d356a979eec68aa159e31
   "metadata": {},
   "outputs": [],
   "source": [
    "classes = ['c0', 'c1','c2','c3','c4','c5','c6','c7','c8','c9']\n",
    "Dict = {'c0' : 0, 'c1' :1, 'c2':2, 'c3':3, 'c4':4,'c5':5,'c6':6,'c7':7,'c8':8,'c9':9}\n",
    "images = []\n",
    "Img_labels = []\n",
    "train_path='C:/Users/HITESHWAR SINGH/Desktop/Technocolabs/Dataset/imgs/train'"
   ]
  },
  {
   "cell_type": "code",
   "execution_count": 3,
   "metadata": {},
   "outputs": [],
   "source": [
    "for label in classes:\n",
    "    path = os.path.join(train_path , label)\n",
    "    for img in os.listdir(path):\n",
    "        img = cv2.imread(os.path.join(path,img))\n",
    "        new_img = cv2.resize(img, (64, 64))\n",
    "        images.append(new_img)\n",
    "        Img_labels.append(Dict[label])"
   ]
  },
  {
   "cell_type": "code",
   "execution_count": 6,
   "metadata": {},
   "outputs": [
    {
     "output_type": "stream",
     "name": "stdout",
     "text": [
      "(22424, 64, 64, 3)\n(22424,)\n"
     ]
    }
   ],
   "source": [
    "img=np.array(images)\n",
    "labels=np.array(Img_labels)\n",
    "print(img.shape)\n",
    "print(labels.shape)"
   ]
  },
  {
   "cell_type": "code",
   "execution_count": 7,
   "metadata": {},
   "outputs": [],
   "source": [
    "from sklearn.model_selection import train_test_split\n",
    "x_train,X_test,y_train,Y_test = train_test_split(img,labels, test_size=0.2, random_state=1)\n",
    "X_train,X_val,Y_train,Y_val = train_test_split(x_train,y_train, test_size=0.1, random_state=1)"
   ]
  },
  {
   "cell_type": "code",
   "execution_count": 24,
   "metadata": {},
   "outputs": [
    {
     "output_type": "stream",
     "name": "stdout",
     "text": [
      "(16145, 64, 64, 3)\n(16145,)\n(4485, 64, 64, 3)\n(4485,)\n(1794, 64, 64, 3)\n(1794,)\n"
     ]
    }
   ],
   "source": [
    "print(X_train.shape)\n",
    "print(Y_train.shape)\n",
    "print(X_test.shape)\n",
    "print(Y_test.shape)\n",
    "print(X_val.shape)\n",
    "print(Y_val.shape)\n"
   ]
  }
 ],
 "metadata": {
  "kernelspec": {
   "name": "python3810jvsc74a57bd0a361f44081653c66c62176887a1b9fbd7fd6ed5243b4dbc14a3281360adf93d0",
   "display_name": "Python 3.8.10 64-bit (windows store)"
  },
  "language_info": {
   "codemirror_mode": {
    "name": "ipython",
    "version": 3
   },
   "file_extension": ".py",
   "mimetype": "text/x-python",
   "name": "python",
   "nbconvert_exporter": "python",
   "pygments_lexer": "ipython3",
   "version": "3.8.10"
<<<<<<< HEAD
=======
  },
  "metadata": {
   "interpreter": {
    "hash": "a361f44081653c66c62176887a1b9fbd7fd6ed5243b4dbc14a3281360adf93d0"
   }
>>>>>>> b84ddeff45de2f0b0b5d356a979eec68aa159e31
  }
 },
 "nbformat": 4,
 "nbformat_minor": 2
}