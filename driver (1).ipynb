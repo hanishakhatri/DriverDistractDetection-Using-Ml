{
  "nbformat": 4,
  "nbformat_minor": 0,
  "metadata": {
    "colab": {
      "name": "driver.ipynb",
      "provenance": [],
      "collapsed_sections": []
    },
    "kernelspec": {
      "name": "python3",
      "display_name": "Python 3"
    },
    "language_info": {
      "name": "python"
    }
  },
  "cells": [
    {
      "cell_type": "code",
      "metadata": {
        "colab": {
          "base_uri": "https://localhost:8080/"
        },
        "id": "6XZtAnIa8HQg",
        "outputId": "93129fc8-45a1-4a91-a07e-c52743a58bef"
      },
      "source": [
        "from google.colab import drive\n",
        "drive.mount ('/content/gdrive',force_remount=True)"
      ],
      "execution_count": 1,
      "outputs": [
        {
          "output_type": "stream",
          "text": [
            "Mounted at /content/gdrive\n"
          ],
          "name": "stdout"
        }
      ]
    },
    {
      "cell_type": "code",
      "metadata": {
        "colab": {
          "base_uri": "https://localhost:8080/"
        },
        "id": "-pHa9VHk8NJP",
        "outputId": "db0704c9-97bf-492f-c5d7-ac993f6e4f16"
      },
      "source": [
        "%cd /content/gdrive/MyDrive/Kaggle Data\n",
        "!ls"
      ],
      "execution_count": 3,
      "outputs": [
        {
          "output_type": "stream",
          "text": [
            "/content/gdrive/MyDrive/Kaggle Data\n",
            "driver_imgs_list.csv  test  train\n"
          ],
          "name": "stdout"
        }
      ]
    },
    {
      "cell_type": "code",
      "metadata": {
        "colab": {
          "base_uri": "https://localhost:8080/",
          "height": 530
        },
        "id": "LYQzoing-CK7",
        "outputId": "7e8d8483-57c6-4549-8533-c9d10dcf72a0"
      },
      "source": [
        "!pip install opencv-python==3.4.2.17\n",
        "!pip install opencv-contrib-python==3.4.2.17"
      ],
      "execution_count": 41,
      "outputs": [
        {
          "output_type": "stream",
          "text": [
            "Collecting opencv-python==3.4.2.17\n",
            "\u001b[?25l  Downloading https://files.pythonhosted.org/packages/8f/8f/a5d2fa3a3309c4e4aa28eb989d81a95b57c63406b4d439758a1a0a810c77/opencv_python-3.4.2.17-cp37-cp37m-manylinux1_x86_64.whl (25.0MB)\n",
            "\u001b[K     |████████████████████████████████| 25.0MB 1.9MB/s \n",
            "\u001b[?25hRequirement already satisfied: numpy>=1.14.5 in /usr/local/lib/python3.7/dist-packages (from opencv-python==3.4.2.17) (1.19.5)\n",
            "\u001b[31mERROR: albumentations 0.1.12 has requirement imgaug<0.2.7,>=0.2.5, but you'll have imgaug 0.2.9 which is incompatible.\u001b[0m\n",
            "Installing collected packages: opencv-python\n",
            "  Found existing installation: opencv-python 4.1.2.30\n",
            "    Uninstalling opencv-python-4.1.2.30:\n",
            "      Successfully uninstalled opencv-python-4.1.2.30\n",
            "Successfully installed opencv-python-3.4.2.17\n"
          ],
          "name": "stdout"
        },
        {
          "output_type": "display_data",
          "data": {
            "application/vnd.colab-display-data+json": {
              "pip_warning": {
                "packages": [
                  "cv2"
                ]
              }
            }
          },
          "metadata": {
            "tags": []
          }
        },
        {
          "output_type": "stream",
          "text": [
            "Collecting opencv-contrib-python==3.4.2.17\n",
            "\u001b[?25l  Downloading https://files.pythonhosted.org/packages/12/32/8d32d40cd35e61c80cb112ef5e8dbdcfbb06124f36a765df98517a12e753/opencv_contrib_python-3.4.2.17-cp37-cp37m-manylinux1_x86_64.whl (30.6MB)\n",
            "\u001b[K     |████████████████████████████████| 30.6MB 93kB/s \n",
            "\u001b[?25hRequirement already satisfied: numpy>=1.14.5 in /usr/local/lib/python3.7/dist-packages (from opencv-contrib-python==3.4.2.17) (1.19.5)\n",
            "Installing collected packages: opencv-contrib-python\n",
            "  Found existing installation: opencv-contrib-python 4.1.2.30\n",
            "    Uninstalling opencv-contrib-python-4.1.2.30:\n",
            "      Successfully uninstalled opencv-contrib-python-4.1.2.30\n",
            "Successfully installed opencv-contrib-python-3.4.2.17\n"
          ],
          "name": "stdout"
        },
        {
          "output_type": "display_data",
          "data": {
            "application/vnd.colab-display-data+json": {
              "pip_warning": {
                "packages": [
                  "cv2"
                ]
              }
            }
          },
          "metadata": {
            "tags": []
          }
        }
      ]
    },
    {
      "cell_type": "code",
      "metadata": {
        "id": "9bfKWl34-fPU"
      },
      "source": [
        "import os\n",
        "import numpy as np\n",
        "import matplotlib.pyplot as plt\n",
        "import cv2\n",
        "from google.colab import drive\n",
        "import matplotlib.pyplot as plt\n",
        "import joblib\n",
        "import pickle\n",
        "import pandas as pd \n",
        "import matplotlib.pyplot as plt\n",
        "from matplotlib.pyplot import figure \n",
        "import plotly.express as px"
      ],
      "execution_count": 12,
      "outputs": []
    },
    {
      "cell_type": "code",
      "metadata": {
        "id": "4jVkkDuU-10V"
      },
      "source": [
        "\n",
        "import keras\n",
        "from tensorflow.keras.applications.mobilenet_v2 import preprocess_input\n",
        "from tensorflow.keras.preprocessing.image import img_to_array\n",
        "from tensorflow.keras.preprocessing.image import load_img\n"
      ],
      "execution_count": 13,
      "outputs": []
    },
    {
      "cell_type": "markdown",
      "metadata": {
        "id": "ymfWNg5Ua8PP"
      },
      "source": [
        "Resize Images"
      ]
    },
    {
      "cell_type": "code",
      "metadata": {
        "id": "NJ2N04or_GSF"
      },
      "source": [
        "classes = ['c0', 'c1','c2','c3','c4','c5','c6','c7','c8','c9']\n",
        "Dict = {'c0' : 0, 'c1' :1, 'c2':2, 'c3':3, 'c4':4,'c5':5,'c6':6,'c7':7,'c8':8,'c9':9}\n",
        "images = []\n",
        "Img_labels = []\n",
        "train_path='/content/gdrive/MyDrive/Kaggle Data/train'"
      ],
      "execution_count": 21,
      "outputs": []
    },
    {
      "cell_type": "code",
      "metadata": {
        "id": "OuXtMo-k_1O7"
      },
      "source": [
        "for label in classes:\n",
        "      path = os.path.join(train_path , label)\n",
        "      for img in os.listdir(path):\n",
        "         img = cv2.imread(os.path.join(path,img))\n",
        "         new_img = cv2.resize(img, (64, 64))\n",
        "         images.append(new_img)\n",
        "         Img_labels.append(Dict[label])\n",
        "         #print(images,Img_labels)\n",
        "     #print(label)"
      ],
      "execution_count": 22,
      "outputs": []
    },
    {
      "cell_type": "code",
      "metadata": {
        "colab": {
          "base_uri": "https://localhost:8080/"
        },
        "id": "MI6_GyUr_9zv",
        "outputId": "1e9455f8-7433-43df-e625-267e9a985081"
      },
      "source": [
        "img=np.array(images)\n",
        "labels=np.array(Img_labels)\n",
        "print(img.shape)"
      ],
      "execution_count": 24,
      "outputs": [
        {
          "output_type": "stream",
          "text": [
            "(15023, 64, 64, 3)\n"
          ],
          "name": "stdout"
        }
      ]
    },
    {
      "cell_type": "code",
      "metadata": {
        "colab": {
          "base_uri": "https://localhost:8080/"
        },
        "id": "hA22YmFbAIUn",
        "outputId": "cc345654-b8b6-44a9-d28d-5406666523f6"
      },
      "source": [
        "print(img)"
      ],
      "execution_count": 25,
      "outputs": [
        {
          "output_type": "stream",
          "text": [
            "[[[[ 34  43  33]\n",
            "   [ 40  46  41]\n",
            "   [ 55  65  56]\n",
            "   ...\n",
            "   [192 175  94]\n",
            "   [220 196 114]\n",
            "   [252 250 177]]\n",
            "\n",
            "  [[ 17  15   7]\n",
            "   [  1  11   5]\n",
            "   [  1   6   4]\n",
            "   ...\n",
            "   [241 224 144]\n",
            "   [232 218 132]\n",
            "   [237 224 138]]\n",
            "\n",
            "  [[ 11  11  12]\n",
            "   [ 36  58  36]\n",
            "   [ 76 111  93]\n",
            "   ...\n",
            "   [237 222 130]\n",
            "   [216 199 113]\n",
            "   [203 193 106]]\n",
            "\n",
            "  ...\n",
            "\n",
            "  [[ 49  53  42]\n",
            "   [ 63  71  48]\n",
            "   [ 65  69  50]\n",
            "   ...\n",
            "   [ 17  18  22]\n",
            "   [ 11  16  17]\n",
            "   [ 23  22  24]]\n",
            "\n",
            "  [[ 63  65  53]\n",
            "   [ 66  72  49]\n",
            "   [ 64  68  49]\n",
            "   ...\n",
            "   [ 17  19  20]\n",
            "   [ 17  18  22]\n",
            "   [ 17  18  22]]\n",
            "\n",
            "  [[ 67  73  50]\n",
            "   [ 67  72  51]\n",
            "   [ 64  68  49]\n",
            "   ...\n",
            "   [ 16  15  24]\n",
            "   [ 16  17  21]\n",
            "   [ 16  17  21]]]\n",
            "\n",
            "\n",
            " [[[ 59  82  71]\n",
            "   [ 64  87  77]\n",
            "   [ 68  91  80]\n",
            "   ...\n",
            "   [251 231 144]\n",
            "   [250 244 179]\n",
            "   [187 170 122]]\n",
            "\n",
            "  [[193 220 199]\n",
            "   [228 254 234]\n",
            "   [229 255 237]\n",
            "   ...\n",
            "   [255 245 161]\n",
            "   [253 244 161]\n",
            "   [251 247 179]]\n",
            "\n",
            "  [[224 251 205]\n",
            "   [195 220 178]\n",
            "   [ 68  93  46]\n",
            "   ...\n",
            "   [252 243 170]\n",
            "   [248 238 160]\n",
            "   [255 249 171]]\n",
            "\n",
            "  ...\n",
            "\n",
            "  [[  1   6   5]\n",
            "   [  2   7   6]\n",
            "   [  2   7   6]\n",
            "   ...\n",
            "   [212 212 194]\n",
            "   [ 13  12  15]\n",
            "   [  9  11  12]]\n",
            "\n",
            "  [[  2   7   6]\n",
            "   [  2   7   6]\n",
            "   [  2   7   6]\n",
            "   ...\n",
            "   [ 17  14  10]\n",
            "   [ 26  24  26]\n",
            "   [  7  11  12]]\n",
            "\n",
            "  [[  2   7   6]\n",
            "   [  2   7   6]\n",
            "   [  2   7   6]\n",
            "   ...\n",
            "   [ 12   8  13]\n",
            "   [ 21  18  20]\n",
            "   [ 13  17  18]]]\n",
            "\n",
            "\n",
            " [[[ 17  26  19]\n",
            "   [ 21  29  24]\n",
            "   [ 26  40  28]\n",
            "   ...\n",
            "   [220 199 116]\n",
            "   [207 190 107]\n",
            "   [225 214 141]]\n",
            "\n",
            "  [[ 20  26  18]\n",
            "   [110 125 115]\n",
            "   [  1   9   2]\n",
            "   ...\n",
            "   [213 195 118]\n",
            "   [212 202 112]\n",
            "   [232 223 132]]\n",
            "\n",
            "  [[  2   5   1]\n",
            "   [  5  16   5]\n",
            "   [ 65  73  70]\n",
            "   ...\n",
            "   [217 203 120]\n",
            "   [225 211 128]\n",
            "   [247 235 148]]\n",
            "\n",
            "  ...\n",
            "\n",
            "  [[102 111  89]\n",
            "   [ 97 106  84]\n",
            "   [ 58  67  47]\n",
            "   ...\n",
            "   [  5   9  10]\n",
            "   [  4   8   9]\n",
            "   [ 15  19  20]]\n",
            "\n",
            "  [[ 52  56  28]\n",
            "   [ 69  77  47]\n",
            "   [ 43  52  31]\n",
            "   ...\n",
            "   [  9  12  16]\n",
            "   [ 11  13  13]\n",
            "   [ 10  12  12]]\n",
            "\n",
            "  [[114 114  97]\n",
            "   [ 90  98  68]\n",
            "   [ 30  33  14]\n",
            "   ...\n",
            "   [ 10  13  17]\n",
            "   [ 10  11  15]\n",
            "   [ 14  15  19]]]\n",
            "\n",
            "\n",
            " ...\n",
            "\n",
            "\n",
            " [[[ 10  16  15]\n",
            "   [ 11  17  16]\n",
            "   [ 10  16  15]\n",
            "   ...\n",
            "   [114 157 120]\n",
            "   [133 191 150]\n",
            "   [164 227 185]]\n",
            "\n",
            "  [[ 10  16  15]\n",
            "   [ 10  16  15]\n",
            "   [ 10  16  15]\n",
            "   ...\n",
            "   [119 143 109]\n",
            "   [114 149 110]\n",
            "   [130 182 141]]\n",
            "\n",
            "  [[  7  15  15]\n",
            "   [  8  16  16]\n",
            "   [ 10  18  18]\n",
            "   ...\n",
            "   [119 141 106]\n",
            "   [121 148 112]\n",
            "   [121 154 117]]\n",
            "\n",
            "  ...\n",
            "\n",
            "  [[ 14  21  18]\n",
            "   [ 10  17  14]\n",
            "   [  9  14  13]\n",
            "   ...\n",
            "   [ 63  48  32]\n",
            "   [ 54  33  26]\n",
            "   [ 36  31  30]]\n",
            "\n",
            "  [[ 10  12  12]\n",
            "   [  9  11  11]\n",
            "   [  5  10   8]\n",
            "   ...\n",
            "   [ 55  42  26]\n",
            "   [ 47  36  25]\n",
            "   [ 21  16  16]]\n",
            "\n",
            "  [[  9  16  15]\n",
            "   [  9  16  15]\n",
            "   [  8  12  13]\n",
            "   ...\n",
            "   [ 45  29  23]\n",
            "   [ 40  30  25]\n",
            "   [ 14  12  15]]]\n",
            "\n",
            "\n",
            " [[[ 31  46  38]\n",
            "   [ 32  47  39]\n",
            "   [ 34  49  41]\n",
            "   ...\n",
            "   [255 255 182]\n",
            "   [245 248 200]\n",
            "   [137 142 111]]\n",
            "\n",
            "  [[ 30  45  37]\n",
            "   [ 32  47  39]\n",
            "   [ 34  49  41]\n",
            "   ...\n",
            "   [254 255 165]\n",
            "   [255 255 168]\n",
            "   [198 200 147]]\n",
            "\n",
            "  [[ 34  49  39]\n",
            "   [ 28  46  35]\n",
            "   [154 180 157]\n",
            "   ...\n",
            "   [255 255 169]\n",
            "   [255 254 162]\n",
            "   [252 251 178]]\n",
            "\n",
            "  ...\n",
            "\n",
            "  [[  1   6   5]\n",
            "   [  2   7   6]\n",
            "   [  2   7   6]\n",
            "   ...\n",
            "   [  8  12  13]\n",
            "   [ 10  12  11]\n",
            "   [  8   8  14]]\n",
            "\n",
            "  [[  1   6   5]\n",
            "   [  2   7   6]\n",
            "   [  1   6   5]\n",
            "   ...\n",
            "   [ 30  15   8]\n",
            "   [ 21  19  14]\n",
            "   [ 13  13  18]]\n",
            "\n",
            "  [[  1   6   5]\n",
            "   [  1   6   5]\n",
            "   [  1   6   5]\n",
            "   ...\n",
            "   [  5  15  21]\n",
            "   [ 87  88  75]\n",
            "   [  9   9  15]]]\n",
            "\n",
            "\n",
            " [[[ 39  50  40]\n",
            "   [ 30  44  39]\n",
            "   [108 123 111]\n",
            "   ...\n",
            "   [211 203 116]\n",
            "   [235 241 165]\n",
            "   [254 255 215]]\n",
            "\n",
            "  [[  7  11   4]\n",
            "   [  2  18   3]\n",
            "   [  0  11   3]\n",
            "   ...\n",
            "   [255 254 186]\n",
            "   [254 255 182]\n",
            "   [255 254 185]]\n",
            "\n",
            "  [[  6  13   9]\n",
            "   [ 62  75  59]\n",
            "   [ 60  87  72]\n",
            "   ...\n",
            "   [255 254 223]\n",
            "   [255 253 223]\n",
            "   [255 253 222]]\n",
            "\n",
            "  ...\n",
            "\n",
            "  [[ 60  63  47]\n",
            "   [ 64  67  51]\n",
            "   [ 61  64  49]\n",
            "   ...\n",
            "   [ 20  22  22]\n",
            "   [ 18  19  17]\n",
            "   [ 35  36  34]]\n",
            "\n",
            "  [[ 65  69  50]\n",
            "   [ 62  66  47]\n",
            "   [ 59  62  47]\n",
            "   ...\n",
            "   [ 22  22  22]\n",
            "   [ 23  23  23]\n",
            "   [ 19  19  19]]\n",
            "\n",
            "  [[ 64  68  49]\n",
            "   [ 62  66  47]\n",
            "   [ 56  59  44]\n",
            "   ...\n",
            "   [ 26  26  26]\n",
            "   [ 21  21  21]\n",
            "   [ 36  36  36]]]]\n"
          ],
          "name": "stdout"
        }
      ]
    },
    {
      "cell_type": "code",
      "metadata": {
        "colab": {
          "base_uri": "https://localhost:8080/"
        },
        "id": "uyuU5MDOAL5_",
        "outputId": "80003f0b-125d-4404-869e-01a574515fea"
      },
      "source": [
        "\n",
        "labels"
      ],
      "execution_count": 26,
      "outputs": [
        {
          "output_type": "execute_result",
          "data": {
            "text/plain": [
              "array([0, 0, 0, ..., 9, 9, 9])"
            ]
          },
          "metadata": {
            "tags": []
          },
          "execution_count": 26
        }
      ]
    },
    {
      "cell_type": "markdown",
      "metadata": {
        "id": "3pHL5PphbQny"
      },
      "source": [
        "### Read Split and Store data"
      ]
    },
    {
      "cell_type": "code",
      "metadata": {
        "id": "fC5AWtwCQwCm"
      },
      "source": [
        "from sklearn.model_selection import train_test_split\n",
        "x_train,X_test,y_train,Y_test = train_test_split(img,labels, test_size=0.2, random_state=1)\n",
        "X_train,X_val,Y_train,Y_val = train_test_split(x_train,y_train, test_size=0.1, random_state=1)"
      ],
      "execution_count": 27,
      "outputs": []
    },
    {
      "cell_type": "code",
      "metadata": {
        "colab": {
          "base_uri": "https://localhost:8080/"
        },
        "id": "cF7Vof8pUfoN",
        "outputId": "3eb41b60-e6c0-4ab3-83e3-fd5530a98b98"
      },
      "source": [
        "print(X_train.shape)\n",
        "print(Y_train.shape)\n",
        "print(X_test.shape)\n",
        "print(Y_test.shape)\n",
        "print(X_val.shape)\n",
        "print(Y_val.shape)"
      ],
      "execution_count": 28,
      "outputs": [
        {
          "output_type": "stream",
          "text": [
            "(10816, 64, 64, 3)\n",
            "(10816,)\n",
            "(3005, 64, 64, 3)\n",
            "(3005,)\n",
            "(1202, 64, 64, 3)\n",
            "(1202,)\n"
          ],
          "name": "stdout"
        }
      ]
    },
    {
      "cell_type": "markdown",
      "metadata": {
        "id": "mRjnZiF_bE_a"
      },
      "source": [
        "## Features Extration"
      ]
    },
    {
      "cell_type": "markdown",
      "metadata": {
        "id": "6Lf6FiuobiUs"
      },
      "source": [
        "SURF"
      ]
    },
    {
      "cell_type": "code",
      "metadata": {
        "id": "2rW70cv0UjL3"
      },
      "source": [
        "def get_surf(images, name='surf', save=False):\n",
        "  # SURF descriptor \n",
        "  def get_image_surf(image, vector_size=32):\n",
        "        alg = cv2.xfeatures2d.SURF_create()\n",
        "        kps = alg.detect(image, None)\n",
        "        kps = sorted(kps, key=lambda x: -x.response)[:vector_size]\n",
        "        \n",
        "        # Making descriptor of same size\n",
        "        # Descriptor vector size is 64\n",
        "        needed_size = (vector_size * 64)\n",
        "        if len(kps) == 0:\n",
        "            return np.zeros(needed_size)\n",
        "        \n",
        "        kps, dsc = alg.compute(image, kps)\n",
        "        dsc = dsc.flatten()\n",
        "        if dsc.size < needed_size:\n",
        "            # if we have less than 32 descriptors then just adding zeros at the\n",
        "            # end of our feature vector\n",
        "            dsc = np.concatenate([dsc, np.zeros(needed_size - dsc.size)])\n",
        "            \n",
        "        return dsc\n",
        "    \n",
        "  # SURF descriptor for all images\n",
        "  features = []\n",
        "  for i, img in enumerate(images):\n",
        "      dsc = get_image_surf(img)\n",
        "      features.append(dsc)\n",
        "  \n",
        "  result = np.array(features)\n",
        "  "
      ],
      "execution_count": 42,
      "outputs": []
    },
    {
      "cell_type": "code",
      "metadata": {
        "colab": {
          "base_uri": "https://localhost:8080/",
          "height": 374
        },
        "id": "gHiNkBoVaLkR",
        "outputId": "265c6f38-114d-4db5-e5b2-7074e1f85e27"
      },
      "source": [
        "train_img = get_surf(X_train)\n",
        "val_img=get_surf(X_val)\n",
        "test_img= get_surf(X_test)"
      ],
      "execution_count": 43,
      "outputs": [
        {
          "output_type": "error",
          "ename": "error",
          "evalue": "ignored",
          "traceback": [
            "\u001b[0;31m---------------------------------------------------------------------------\u001b[0m",
            "\u001b[0;31merror\u001b[0m                                     Traceback (most recent call last)",
            "\u001b[0;32m<ipython-input-43-6d76d7e6e589>\u001b[0m in \u001b[0;36m<module>\u001b[0;34m()\u001b[0m\n\u001b[0;32m----> 1\u001b[0;31m \u001b[0mtrain_img\u001b[0m \u001b[0;34m=\u001b[0m \u001b[0mget_surf\u001b[0m\u001b[0;34m(\u001b[0m\u001b[0mX_train\u001b[0m\u001b[0;34m)\u001b[0m\u001b[0;34m\u001b[0m\u001b[0;34m\u001b[0m\u001b[0m\n\u001b[0m\u001b[1;32m      2\u001b[0m \u001b[0mval_img\u001b[0m\u001b[0;34m=\u001b[0m\u001b[0mget_surf\u001b[0m\u001b[0;34m(\u001b[0m\u001b[0mX_val\u001b[0m\u001b[0;34m)\u001b[0m\u001b[0;34m\u001b[0m\u001b[0;34m\u001b[0m\u001b[0m\n\u001b[1;32m      3\u001b[0m \u001b[0mtest_img\u001b[0m\u001b[0;34m=\u001b[0m \u001b[0mget_surf\u001b[0m\u001b[0;34m(\u001b[0m\u001b[0mX_test\u001b[0m\u001b[0;34m)\u001b[0m\u001b[0;34m\u001b[0m\u001b[0;34m\u001b[0m\u001b[0m\n",
            "\u001b[0;32m<ipython-input-42-0a8e8a34c317>\u001b[0m in \u001b[0;36mget_surf\u001b[0;34m(images, name, save)\u001b[0m\n\u001b[1;32m     24\u001b[0m   \u001b[0mfeatures\u001b[0m \u001b[0;34m=\u001b[0m \u001b[0;34m[\u001b[0m\u001b[0;34m]\u001b[0m\u001b[0;34m\u001b[0m\u001b[0;34m\u001b[0m\u001b[0m\n\u001b[1;32m     25\u001b[0m   \u001b[0;32mfor\u001b[0m \u001b[0mi\u001b[0m\u001b[0;34m,\u001b[0m \u001b[0mimg\u001b[0m \u001b[0;32min\u001b[0m \u001b[0menumerate\u001b[0m\u001b[0;34m(\u001b[0m\u001b[0mimages\u001b[0m\u001b[0;34m)\u001b[0m\u001b[0;34m:\u001b[0m\u001b[0;34m\u001b[0m\u001b[0;34m\u001b[0m\u001b[0m\n\u001b[0;32m---> 26\u001b[0;31m       \u001b[0mdsc\u001b[0m \u001b[0;34m=\u001b[0m \u001b[0mget_image_surf\u001b[0m\u001b[0;34m(\u001b[0m\u001b[0mimg\u001b[0m\u001b[0;34m)\u001b[0m\u001b[0;34m\u001b[0m\u001b[0;34m\u001b[0m\u001b[0m\n\u001b[0m\u001b[1;32m     27\u001b[0m       \u001b[0mfeatures\u001b[0m\u001b[0;34m.\u001b[0m\u001b[0mappend\u001b[0m\u001b[0;34m(\u001b[0m\u001b[0mdsc\u001b[0m\u001b[0;34m)\u001b[0m\u001b[0;34m\u001b[0m\u001b[0;34m\u001b[0m\u001b[0m\n\u001b[1;32m     28\u001b[0m \u001b[0;34m\u001b[0m\u001b[0m\n",
            "\u001b[0;32m<ipython-input-42-0a8e8a34c317>\u001b[0m in \u001b[0;36mget_image_surf\u001b[0;34m(image, vector_size)\u001b[0m\n\u001b[1;32m      2\u001b[0m   \u001b[0;31m# SURF descriptor\u001b[0m\u001b[0;34m\u001b[0m\u001b[0;34m\u001b[0m\u001b[0;34m\u001b[0m\u001b[0m\n\u001b[1;32m      3\u001b[0m   \u001b[0;32mdef\u001b[0m \u001b[0mget_image_surf\u001b[0m\u001b[0;34m(\u001b[0m\u001b[0mimage\u001b[0m\u001b[0;34m,\u001b[0m \u001b[0mvector_size\u001b[0m\u001b[0;34m=\u001b[0m\u001b[0;36m32\u001b[0m\u001b[0;34m)\u001b[0m\u001b[0;34m:\u001b[0m\u001b[0;34m\u001b[0m\u001b[0;34m\u001b[0m\u001b[0m\n\u001b[0;32m----> 4\u001b[0;31m         \u001b[0malg\u001b[0m \u001b[0;34m=\u001b[0m \u001b[0mcv2\u001b[0m\u001b[0;34m.\u001b[0m\u001b[0mxfeatures2d\u001b[0m\u001b[0;34m.\u001b[0m\u001b[0mSURF_create\u001b[0m\u001b[0;34m(\u001b[0m\u001b[0;34m)\u001b[0m\u001b[0;34m\u001b[0m\u001b[0;34m\u001b[0m\u001b[0m\n\u001b[0m\u001b[1;32m      5\u001b[0m         \u001b[0mkps\u001b[0m \u001b[0;34m=\u001b[0m \u001b[0malg\u001b[0m\u001b[0;34m.\u001b[0m\u001b[0mdetect\u001b[0m\u001b[0;34m(\u001b[0m\u001b[0mimage\u001b[0m\u001b[0;34m,\u001b[0m \u001b[0;32mNone\u001b[0m\u001b[0;34m)\u001b[0m\u001b[0;34m\u001b[0m\u001b[0;34m\u001b[0m\u001b[0m\n\u001b[1;32m      6\u001b[0m         \u001b[0mkps\u001b[0m \u001b[0;34m=\u001b[0m \u001b[0msorted\u001b[0m\u001b[0;34m(\u001b[0m\u001b[0mkps\u001b[0m\u001b[0;34m,\u001b[0m \u001b[0mkey\u001b[0m\u001b[0;34m=\u001b[0m\u001b[0;32mlambda\u001b[0m \u001b[0mx\u001b[0m\u001b[0;34m:\u001b[0m \u001b[0;34m-\u001b[0m\u001b[0mx\u001b[0m\u001b[0;34m.\u001b[0m\u001b[0mresponse\u001b[0m\u001b[0;34m)\u001b[0m\u001b[0;34m[\u001b[0m\u001b[0;34m:\u001b[0m\u001b[0mvector_size\u001b[0m\u001b[0;34m]\u001b[0m\u001b[0;34m\u001b[0m\u001b[0;34m\u001b[0m\u001b[0m\n",
            "\u001b[0;31merror\u001b[0m: OpenCV(4.1.2) /io/opencv_contrib/modules/xfeatures2d/src/surf.cpp:1029: error: (-213:The function/feature is not implemented) This algorithm is patented and is excluded in this configuration; Set OPENCV_ENABLE_NONFREE CMake option and rebuild the library in function 'create'\n"
          ]
        }
      ]
    },
    {
      "cell_type": "code",
      "metadata": {
        "id": "i72q75ONaYFs"
      },
      "source": [
        ""
      ],
      "execution_count": 40,
      "outputs": []
    },
    {
      "cell_type": "markdown",
      "metadata": {
        "id": "ae6HQhBebpiz"
      },
      "source": [
        "SIFT\n"
      ]
    },
    {
      "cell_type": "code",
      "metadata": {
        "id": "RH5GudA5Z3B-"
      },
      "source": [
        "def get_sift(images, name='sift', save=False):\n",
        "    # SIFT descriptor for 1 image\n",
        "    def get_image_sift(image, vector_size=32):\n",
        "        alg = cv2.xfeatures2d.SIFT_create()\n",
        "        kps = alg.detect(image, None)\n",
        "        kps = sorted(kps, key=lambda x: -x.response)[:vector_size]\n",
        "        \n",
        "        # Making descriptor of same size\n",
        "        # Descriptor vector size is 128\n",
        "        needed_size = (vector_size * 64)\n",
        "        if len(kps) == 0:\n",
        "            return np.zeros(needed_size)\n",
        "        \n",
        "        kps, dsc = alg.compute(image, kps)\n",
        "        dsc = dsc.flatten()\n",
        "        if dsc.size < needed_size:\n",
        "            # if we have less than 32 descriptors then just adding zeros at the\n",
        "            # end of our feature vector\n",
        "            dsc = np.concatenate([dsc, np.zeros(needed_size - dsc.size)])\n",
        "            \n",
        "        return dsc\n",
        "    \n",
        "    # SIFT descriptor for all images\n",
        "    features = []\n",
        "    for i, img in enumerate(images):\n",
        "        dsc = get_image_sift(img)\n",
        "        features.append(dsc)\n",
        "\n",
        "    result = np.array(features)"
      ],
      "execution_count": 33,
      "outputs": []
    },
    {
      "cell_type": "code",
      "metadata": {
        "id": "kMaLF5PhWOey"
      },
      "source": [
        ""
      ],
      "execution_count": 40,
      "outputs": []
    },
    {
      "cell_type": "code",
      "metadata": {
        "colab": {
          "base_uri": "https://localhost:8080/",
          "height": 374
        },
        "id": "eAQ5eY1WWUH2",
        "outputId": "97208ac8-0a93-46aa-9ef5-d84d09ac076b"
      },
      "source": [
        "train_img = get_sift(X_train)\n",
        "val_img=get_sift(X_val)\n",
        "test_img= get_sift(X_test)"
      ],
      "execution_count": 37,
      "outputs": [
        {
          "output_type": "error",
          "ename": "error",
          "evalue": "ignored",
          "traceback": [
            "\u001b[0;31m---------------------------------------------------------------------------\u001b[0m",
            "\u001b[0;31merror\u001b[0m                                     Traceback (most recent call last)",
            "\u001b[0;32m<ipython-input-37-ee10dd5061de>\u001b[0m in \u001b[0;36m<module>\u001b[0;34m()\u001b[0m\n\u001b[0;32m----> 1\u001b[0;31m \u001b[0mtrain_img\u001b[0m \u001b[0;34m=\u001b[0m \u001b[0mget_sift\u001b[0m\u001b[0;34m(\u001b[0m\u001b[0mX_train\u001b[0m\u001b[0;34m)\u001b[0m\u001b[0;34m\u001b[0m\u001b[0;34m\u001b[0m\u001b[0m\n\u001b[0m\u001b[1;32m      2\u001b[0m \u001b[0mval_img\u001b[0m\u001b[0;34m=\u001b[0m\u001b[0mget_sift\u001b[0m\u001b[0;34m(\u001b[0m\u001b[0mX_val\u001b[0m\u001b[0;34m)\u001b[0m\u001b[0;34m\u001b[0m\u001b[0;34m\u001b[0m\u001b[0m\n\u001b[1;32m      3\u001b[0m \u001b[0mtest_img\u001b[0m\u001b[0;34m=\u001b[0m \u001b[0mget_sift\u001b[0m\u001b[0;34m(\u001b[0m\u001b[0mX_test\u001b[0m\u001b[0;34m)\u001b[0m\u001b[0;34m\u001b[0m\u001b[0;34m\u001b[0m\u001b[0m\n",
            "\u001b[0;32m<ipython-input-33-e2b477004d35>\u001b[0m in \u001b[0;36mget_sift\u001b[0;34m(images, name, save)\u001b[0m\n\u001b[1;32m     24\u001b[0m     \u001b[0mfeatures\u001b[0m \u001b[0;34m=\u001b[0m \u001b[0;34m[\u001b[0m\u001b[0;34m]\u001b[0m\u001b[0;34m\u001b[0m\u001b[0;34m\u001b[0m\u001b[0m\n\u001b[1;32m     25\u001b[0m     \u001b[0;32mfor\u001b[0m \u001b[0mi\u001b[0m\u001b[0;34m,\u001b[0m \u001b[0mimg\u001b[0m \u001b[0;32min\u001b[0m \u001b[0menumerate\u001b[0m\u001b[0;34m(\u001b[0m\u001b[0mimages\u001b[0m\u001b[0;34m)\u001b[0m\u001b[0;34m:\u001b[0m\u001b[0;34m\u001b[0m\u001b[0;34m\u001b[0m\u001b[0m\n\u001b[0;32m---> 26\u001b[0;31m         \u001b[0mdsc\u001b[0m \u001b[0;34m=\u001b[0m \u001b[0mget_image_sift\u001b[0m\u001b[0;34m(\u001b[0m\u001b[0mimg\u001b[0m\u001b[0;34m)\u001b[0m\u001b[0;34m\u001b[0m\u001b[0;34m\u001b[0m\u001b[0m\n\u001b[0m\u001b[1;32m     27\u001b[0m         \u001b[0mfeatures\u001b[0m\u001b[0;34m.\u001b[0m\u001b[0mappend\u001b[0m\u001b[0;34m(\u001b[0m\u001b[0mdsc\u001b[0m\u001b[0;34m)\u001b[0m\u001b[0;34m\u001b[0m\u001b[0;34m\u001b[0m\u001b[0m\n\u001b[1;32m     28\u001b[0m \u001b[0;34m\u001b[0m\u001b[0m\n",
            "\u001b[0;32m<ipython-input-33-e2b477004d35>\u001b[0m in \u001b[0;36mget_image_sift\u001b[0;34m(image, vector_size)\u001b[0m\n\u001b[1;32m      2\u001b[0m     \u001b[0;31m# SIFT descriptor for 1 image\u001b[0m\u001b[0;34m\u001b[0m\u001b[0;34m\u001b[0m\u001b[0;34m\u001b[0m\u001b[0m\n\u001b[1;32m      3\u001b[0m     \u001b[0;32mdef\u001b[0m \u001b[0mget_image_sift\u001b[0m\u001b[0;34m(\u001b[0m\u001b[0mimage\u001b[0m\u001b[0;34m,\u001b[0m \u001b[0mvector_size\u001b[0m\u001b[0;34m=\u001b[0m\u001b[0;36m32\u001b[0m\u001b[0;34m)\u001b[0m\u001b[0;34m:\u001b[0m\u001b[0;34m\u001b[0m\u001b[0;34m\u001b[0m\u001b[0m\n\u001b[0;32m----> 4\u001b[0;31m         \u001b[0malg\u001b[0m \u001b[0;34m=\u001b[0m \u001b[0mcv2\u001b[0m\u001b[0;34m.\u001b[0m\u001b[0mxfeatures2d\u001b[0m\u001b[0;34m.\u001b[0m\u001b[0mSIFT_create\u001b[0m\u001b[0;34m(\u001b[0m\u001b[0;34m)\u001b[0m\u001b[0;34m\u001b[0m\u001b[0;34m\u001b[0m\u001b[0m\n\u001b[0m\u001b[1;32m      5\u001b[0m         \u001b[0mkps\u001b[0m \u001b[0;34m=\u001b[0m \u001b[0malg\u001b[0m\u001b[0;34m.\u001b[0m\u001b[0mdetect\u001b[0m\u001b[0;34m(\u001b[0m\u001b[0mimage\u001b[0m\u001b[0;34m,\u001b[0m \u001b[0;32mNone\u001b[0m\u001b[0;34m)\u001b[0m\u001b[0;34m\u001b[0m\u001b[0;34m\u001b[0m\u001b[0m\n\u001b[1;32m      6\u001b[0m         \u001b[0mkps\u001b[0m \u001b[0;34m=\u001b[0m \u001b[0msorted\u001b[0m\u001b[0;34m(\u001b[0m\u001b[0mkps\u001b[0m\u001b[0;34m,\u001b[0m \u001b[0mkey\u001b[0m\u001b[0;34m=\u001b[0m\u001b[0;32mlambda\u001b[0m \u001b[0mx\u001b[0m\u001b[0;34m:\u001b[0m \u001b[0;34m-\u001b[0m\u001b[0mx\u001b[0m\u001b[0;34m.\u001b[0m\u001b[0mresponse\u001b[0m\u001b[0;34m)\u001b[0m\u001b[0;34m[\u001b[0m\u001b[0;34m:\u001b[0m\u001b[0mvector_size\u001b[0m\u001b[0;34m]\u001b[0m\u001b[0;34m\u001b[0m\u001b[0;34m\u001b[0m\u001b[0m\n",
            "\u001b[0;31merror\u001b[0m: OpenCV(4.1.2) /io/opencv_contrib/modules/xfeatures2d/src/sift.cpp:1207: error: (-213:The function/feature is not implemented) This algorithm is patented and is excluded in this configuration; Set OPENCV_ENABLE_NONFREE CMake option and rebuild the library in function 'create'\n"
          ]
        }
      ]
    },
    {
      "cell_type": "code",
      "metadata": {
        "id": "5h-hE-ihWXtd"
      },
      "source": [
        ""
      ],
      "execution_count": null,
      "outputs": []
    }
  ]
}