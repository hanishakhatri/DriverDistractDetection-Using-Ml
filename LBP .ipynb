{
 "cells": [
  {
   "cell_type": "code",
   "execution_count": 1,
   "id": "63dcde0d",
   "metadata": {},
   "outputs": [],
   "source": [
    "import numpy as np\n",
    "import os\n",
    "import cv2\n",
    "import keras\n",
    "import matplotlib.pyplot as plt\n",
    "from imutils import paths\n",
    "from tensorflow.keras.applications.mobilenet_v2 import preprocess_input\n",
    "from tensorflow.keras.preprocessing.image import img_to_array\n",
    "from tensorflow.keras.preprocessing.image import load_img"
   ]
  },
  {
   "cell_type": "code",
   "execution_count": 2,
   "id": "6f204842",
   "metadata": {},
   "outputs": [],
   "source": [
    "classes = ['c0', 'c1','c2','c3','c4','c5','c6','c7','c8','c9']\n",
    "Dict = {'c0' : 0, 'c1' :1, 'c2':2, 'c3':3, 'c4':4,'c5':5,'c6':6,'c7':7,'c8':8,'c9':9}\n",
    "images = []\n",
    "Img_labels = []\n",
    "train_path='imgs/train'"
   ]
  },
  {
   "cell_type": "code",
   "execution_count": 3,
   "id": "060f7abc",
   "metadata": {},
   "outputs": [],
   "source": [
    "for label in classes:\n",
    "      path = os.path.join(train_path , label)\n",
    "      for img in os.listdir(path):\n",
    "         img = cv2.imread(os.path.join(path,img))\n",
    "         new_img = cv2.resize(img, (64, 64))\n",
    "         images.append(new_img)\n",
    "         Img_labels.append(Dict[label])\n",
    "         # print(images,Img_labels)\n",
    "     #print(label)"
   ]
  },
  {
   "cell_type": "code",
   "execution_count": 4,
   "id": "70ee10e8",
   "metadata": {},
   "outputs": [
    {
     "name": "stdout",
     "output_type": "stream",
     "text": [
      "(22424, 64, 64, 3)\n"
     ]
    }
   ],
   "source": [
    "img=np.array(images)\n",
    "labels=np.array(Img_labels)\n",
    "print(img.shape)"
   ]
  },
  {
   "cell_type": "code",
   "execution_count": 5,
   "id": "c7971c15",
   "metadata": {},
   "outputs": [],
   "source": [
    "from sklearn.model_selection import train_test_split\n",
    "x_train,X_test,y_train,Y_test = train_test_split(img,labels, test_size=0.2, random_state=1)\n",
    "X_train,X_val,Y_train,Y_val = train_test_split(x_train,y_train, test_size=0.1, random_state=1)"
   ]
  },
  {
   "cell_type": "code",
   "execution_count": 6,
   "id": "d4e5f7a0",
   "metadata": {},
   "outputs": [
    {
     "name": "stdout",
     "output_type": "stream",
     "text": [
      "(16145, 64, 64, 3)\n",
      "(16145,)\n",
      "(4485, 64, 64, 3)\n",
      "(4485,)\n",
      "(1794, 64, 64, 3)\n",
      "(1794,)\n"
     ]
    }
   ],
   "source": [
    "print(X_train.shape)\n",
    "print(Y_train.shape)\n",
    "print(X_test.shape)\n",
    "print(Y_test.shape)\n",
    "print(X_val.shape)\n",
    "print(Y_val.shape)\n"
   ]
  },
  {
   "cell_type": "code",
   "execution_count": 8,
   "id": "10d231fd",
   "metadata": {},
   "outputs": [],
   "source": [
    "from skimage.feature import local_binary_pattern\n",
    "def get_lbp(images, name='lbp', save=False):\n",
    "  result = np.array([local_binary_pattern(cv2.cvtColor(img, cv2.COLOR_RGB2GRAY), 10, 3).flatten() for img in images])      \n",
    "  return result\n",
    "lbp_train = get_lbp(X_train, name='lbp_train', save=True)\n",
    "lbp_val = get_lbp(X_val, name='lbp_val', save=True)"
   ]
  },
  {
   "cell_type": "code",
   "execution_count": 9,
   "id": "5b8e3042",
   "metadata": {},
   "outputs": [
    {
     "name": "stdout",
     "output_type": "stream",
     "text": [
      "(16145, 4096)\n",
      "(1794, 4096)\n"
     ]
    }
   ],
   "source": [
    "print(lbp_train.shape)\n",
    "print(lbp_val.shape)"
   ]
  },
  {
   "cell_type": "code",
   "execution_count": 31,
   "id": "b695e4d0",
   "metadata": {},
   "outputs": [],
   "source": [
    "from sklearn import preprocessing\n",
    "def norm_features_minmax(train, test):\n",
    "      min_max_scaler = preprocessing.MinMaxScaler()\n",
    "      norm_train = min_max_scaler.fit_transform(train)\n",
    "      norm_test = min_max_scaler.transform(test)\n",
    "      return norm_train, norm_test"
   ]
  },
  {
   "cell_type": "code",
   "execution_count": 32,
   "id": "afe2cee6",
   "metadata": {},
   "outputs": [],
   "source": [
    "norm_lbp_train,norm_lbp_val=norm_features_minmax(lbp_train,lbp_val)"
   ]
  },
  {
   "cell_type": "code",
   "execution_count": 37,
   "id": "ee945c63",
   "metadata": {},
   "outputs": [
    {
     "name": "stdout",
     "output_type": "stream",
     "text": [
      "(16145, 4096)\n",
      "(1794, 4096)\n"
     ]
    }
   ],
   "source": [
    "print(norm_lbp_train.shape)\n",
    "print(norm_lbp_val.shape)"
   ]
  },
  {
   "cell_type": "code",
   "execution_count": 38,
   "id": "2ed6379e",
   "metadata": {},
   "outputs": [],
   "source": [
    "from sklearn.decomposition import PCA\n",
    "pca=PCA(n_components=100)\n",
    "pca_norm_lbp_train = pca.fit_transform(norm_lbp_train)\n",
    "pca_norm_lbp_val = pca.transform(norm_lbp_val)"
   ]
  },
  {
   "cell_type": "code",
   "execution_count": 39,
   "id": "08063458",
   "metadata": {},
   "outputs": [
    {
     "name": "stdout",
     "output_type": "stream",
     "text": [
      "(16145, 100)\n",
      "(1794, 100)\n"
     ]
    }
   ],
   "source": [
    "print(pca_norm_lbp_train.shape)\n",
    "print(pca_norm_lbp_val.shape)"
   ]
  },
  {
   "cell_type": "code",
   "execution_count": 40,
   "id": "2a51e381",
   "metadata": {},
   "outputs": [],
   "source": [
    "from sklearn.svm import SVC\n",
    "model_pca = SVC()\n",
    "model_pca.fit(pca_norm_lbp_train, Y_train)\n",
    "accPCA = model_pca.score(pca_norm_lbp_val,Y_val)\n"
   ]
  },
  {
   "cell_type": "code",
   "execution_count": 41,
   "id": "58bfe3be",
   "metadata": {},
   "outputs": [
    {
     "name": "stdout",
     "output_type": "stream",
     "text": [
      "Accuracy on PCA:  98.71799999999999 %\n"
     ]
    }
   ],
   "source": [
    "print(\"Accuracy on PCA: \",round(accPCA,5)*100,\"%\")"
   ]
  },
  {
   "cell_type": "code",
   "execution_count": 42,
   "id": "48aeab13",
   "metadata": {},
   "outputs": [],
   "source": [
    "from sklearn.discriminant_analysis import LinearDiscriminantAnalysis as LDA\n",
    "lda = LDA(n_components=9)\n",
    "lda_norm_lbp_train = lda.fit_transform(norm_lbp_train,Y_train)\n",
    "lda_norm_lbp_val = lda.transform(norm_lbp_val)"
   ]
  },
  {
   "cell_type": "code",
   "execution_count": 43,
   "id": "3f012659",
   "metadata": {},
   "outputs": [
    {
     "name": "stdout",
     "output_type": "stream",
     "text": [
      "(16145, 9)\n",
      "(1794, 9)\n"
     ]
    }
   ],
   "source": [
    "print(lda_norm_lbp_train.shape)\n",
    "print(lda_norm_lbp_val.shape)"
   ]
  },
  {
   "cell_type": "code",
   "execution_count": 66,
   "id": "9cff8714",
   "metadata": {},
   "outputs": [],
   "source": [
    "model_lda = SVC()\n",
    "model_lda.fit(lda_norm_lbp_train, Y_train)\n",
    "accLDA=model_lda.score(lda_norm_lbp_val,Y_val)"
   ]
  },
  {
   "cell_type": "code",
   "execution_count": 67,
   "id": "cea07d31",
   "metadata": {},
   "outputs": [
    {
     "name": "stdout",
     "output_type": "stream",
     "text": [
      "Accuracy on LDA:  98.774 %\n"
     ]
    }
   ],
   "source": [
    "print(\"Accuracy on LDA: \",round(accLDA,5)*100,\"%\")"
   ]
  },
  {
   "cell_type": "code",
   "execution_count": 47,
   "id": "5fe1176b",
   "metadata": {},
   "outputs": [],
   "source": [
    "lda = LDA(n_components=9)\n",
    "lda_o_pca_norm_lbp_train = lda.fit_transform(pca_norm_lbp_train,Y_train)\n",
    "lda_o_pca_norm_lbp_val = lda.transform(pca_norm_lbp_val)"
   ]
  },
  {
   "cell_type": "code",
   "execution_count": 48,
   "id": "b4af9fbc",
   "metadata": {},
   "outputs": [
    {
     "name": "stdout",
     "output_type": "stream",
     "text": [
      "(16145, 9)\n",
      "(1794, 9)\n"
     ]
    }
   ],
   "source": [
    "print(lda_o_pca_norm_lbp_train.shape)\n",
    "print(lda_o_pca_norm_lbp_val.shape)"
   ]
  },
  {
   "cell_type": "code",
   "execution_count": 49,
   "id": "a65d1832",
   "metadata": {},
   "outputs": [],
   "source": [
    "model_lda_o_pca = SVC()\n",
    "model_lda_o_pca.fit(lda_o_pca_norm_lbp_train, Y_train)\n",
    "acc_lda_o_pca = model_lda_o_pca.score(lda_o_pca_norm_lbp_val,Y_val)\n"
   ]
  },
  {
   "cell_type": "code",
   "execution_count": 50,
   "id": "ac00f551",
   "metadata": {},
   "outputs": [
    {
     "name": "stdout",
     "output_type": "stream",
     "text": [
      "Accuracy on LDA:  82.441 %\n"
     ]
    }
   ],
   "source": [
    "print(\"Accuracy on LDA: \",round(acc_lda_o_pca,5)*100,\"%\")"
   ]
  },
  {
   "cell_type": "code",
   "execution_count": 53,
   "id": "bbb2ec29",
   "metadata": {},
   "outputs": [],
   "source": [
    "import pickle\n",
    "with open('model_lda','wb') as f1:\n",
    "    pickle.dump(model_lda,f1)\n",
    "\n",
    "with open('model_pca','wb') as f2:\n",
    "    pickle.dump(model_pca,f2)\n",
    "\n",
    "with open('mmodel_lda_o_pca','wb') as f3:\n",
    "    pickle.dump(model_lda_o_pca,f3)"
   ]
  },
  {
   "cell_type": "code",
   "execution_count": 54,
   "id": "aa14862e",
   "metadata": {},
   "outputs": [],
   "source": [
    "with open('model_lda','rb') as f1:\n",
    "    model_lda_loaded = pickle.load(f1)\n",
    "\n",
    "with open('model_pca','rb') as f2:\n",
    "    model_pca_loaded = pickle.load(f2)\n",
    "\n",
    "with open('mmodel_lda_o_pca','rb') as f3:\n",
    "    model_lda_O_pca_loaded = pickle.load(f3)"
   ]
  },
  {
   "cell_type": "code",
   "execution_count": 55,
   "id": "7efc7160",
   "metadata": {},
   "outputs": [
    {
     "name": "stdout",
     "output_type": "stream",
     "text": [
      "(4485, 64, 64, 3)\n",
      "(4485,)\n"
     ]
    }
   ],
   "source": [
    "print(X_test.shape)\n",
    "print(Y_test.shape)"
   ]
  },
  {
   "cell_type": "code",
   "execution_count": 56,
   "id": "75b746f8",
   "metadata": {},
   "outputs": [
    {
     "name": "stdout",
     "output_type": "stream",
     "text": [
      "(4485, 4096)\n"
     ]
    }
   ],
   "source": [
    "lbp_test = get_lbp(X_test, name='lbp_train', save=True)\n",
    "print(lbp_test.shape)"
   ]
  },
  {
   "cell_type": "code",
   "execution_count": 57,
   "id": "76887998",
   "metadata": {},
   "outputs": [],
   "source": [
    "norm_lbp_train,norm_lbp_test=norm_features_minmax(lbp_train,lbp_test)"
   ]
  },
  {
   "cell_type": "code",
   "execution_count": 58,
   "id": "655da0d0",
   "metadata": {},
   "outputs": [
    {
     "name": "stdout",
     "output_type": "stream",
     "text": [
      "(16145, 4096)\n",
      "(4485, 4096)\n"
     ]
    }
   ],
   "source": [
    "print(norm_lbp_train.shape)\n",
    "print(norm_lbp_test.shape)"
   ]
  },
  {
   "cell_type": "code",
   "execution_count": 59,
   "id": "5b957f84",
   "metadata": {},
   "outputs": [],
   "source": [
    "lda = LDA(n_components=9)\n",
    "lda_norm_lbp_test = lda.fit_transform(norm_lbp_test,Y_test)"
   ]
  },
  {
   "cell_type": "code",
   "execution_count": 60,
   "id": "f7507ba9",
   "metadata": {},
   "outputs": [
    {
     "name": "stdout",
     "output_type": "stream",
     "text": [
      "(4485, 9)\n"
     ]
    }
   ],
   "source": [
    "print(lda_norm_lbp_test.shape)"
   ]
  },
  {
   "cell_type": "code",
   "execution_count": 61,
   "id": "515c50d3",
   "metadata": {},
   "outputs": [],
   "source": [
    "pca=PCA(n_components=100)\n",
    "pca_norm_lbp_test = pca.fit_transform(norm_lbp_test)"
   ]
  },
  {
   "cell_type": "code",
   "execution_count": 62,
   "id": "2b19647c",
   "metadata": {},
   "outputs": [
    {
     "name": "stdout",
     "output_type": "stream",
     "text": [
      "(4485, 100)\n"
     ]
    }
   ],
   "source": [
    "print(pca_norm_lbp_test.shape)"
   ]
  },
  {
   "cell_type": "code",
   "execution_count": 63,
   "id": "2db54fc9",
   "metadata": {},
   "outputs": [],
   "source": [
    "lda = LDA(n_components=9)\n",
    "lda_o_pca_norm_lbp_test = lda.fit_transform(pca_norm_lbp_test,Y_test)"
   ]
  },
  {
   "cell_type": "code",
   "execution_count": 64,
   "id": "bf75a612",
   "metadata": {},
   "outputs": [
    {
     "name": "stdout",
     "output_type": "stream",
     "text": [
      "(4485, 9)\n"
     ]
    }
   ],
   "source": [
    "print(lda_o_pca_norm_lbp_test.shape)"
   ]
  },
  {
   "cell_type": "code",
   "execution_count": 69,
   "id": "50c63579",
   "metadata": {},
   "outputs": [
    {
     "name": "stdout",
     "output_type": "stream",
     "text": [
      "Accuracy on LDA over PCA:  0.4336677815 %\n",
      "Accuracy on LDA:  0.123522854 %\n",
      "Accuracy on PCA:  0.1188405797 %\n"
     ]
    }
   ],
   "source": [
    "accLDA_o_PCA=model_lda_O_pca_loaded.score(lda_o_pca_norm_lbp_test,Y_test)\n",
    "acc_LDA=model_lda_loaded.score(lda_norm_lbp_test,Y_test)\n",
    "acc_PCA=model_pca_loaded.score(pca_norm_lbp_test,Y_test)\n",
    "\n",
    "print(\"Accuracy on LDA over PCA: \",round(accLDA_o_PCA,10),\"%\")\n",
    "print(\"Accuracy on LDA: \",round(acc_LDA,10),\"%\")\n",
    "print(\"Accuracy on PCA: \",round(acc_PCA,10),\"%\")"
   ]
  },
  {
   "cell_type": "code",
   "execution_count": 70,
   "id": "e5b042e8",
   "metadata": {},
   "outputs": [],
   "source": []
  },
  {
   "cell_type": "code",
   "execution_count": null,
   "id": "e2cc3d7d",
   "metadata": {},
   "outputs": [],
   "source": []
  },
  {
   "cell_type": "code",
   "execution_count": null,
   "id": "ca521e86",
   "metadata": {},
   "outputs": [],
   "source": []
  }
 ],
 "metadata": {
  "kernelspec": {
   "display_name": "Python 3",
   "language": "python",
   "name": "python3"
  },
  "language_info": {
   "codemirror_mode": {
    "name": "ipython",
    "version": 3
   },
   "file_extension": ".py",
   "mimetype": "text/x-python",
   "name": "python",
   "nbconvert_exporter": "python",
   "pygments_lexer": "ipython3",
   "version": "3.8.10"
  }
 },
 "nbformat": 4,
 "nbformat_minor": 5
}
